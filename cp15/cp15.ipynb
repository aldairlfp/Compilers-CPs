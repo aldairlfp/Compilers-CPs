{
 "cells": [
  {
   "cell_type": "markdown",
   "metadata": {},
   "source": [
    "# Clase Pr\u00e1ctica #15 (Compilaci\u00f3n)\n",
    "\n",
    "En esta clase implementaremos la fase final de chequeo sem\u00e1ntico para el lenguaje que comenzamos a estudiar en clases anteriores. Pasemos a importar lo que ya hab\u00edamos implementado."
   ]
  },
  {
   "cell_type": "markdown",
   "metadata": {},
   "source": [
    "### An\u00e1lisis Lexicogr\u00e1fico y Sint\u00e1ctico"
   ]
  },
  {
   "cell_type": "code",
   "execution_count": null,
   "metadata": {},
   "outputs": [],
   "source": [
    "import cmp.nbpackage\n",
    "import cmp.visitor as visitor\n",
    "\n",
    "from cp13 import G, text\n",
    "from cp13 import Node, ProgramNode, DeclarationNode, ExpressionNode\n",
    "from cp13 import ClassDeclarationNode, FuncDeclarationNode, AttrDeclarationNode\n",
    "from cp13 import VarDeclarationNode, AssignNode, CallNode\n",
    "from cp13 import AtomicNode, BinaryNode\n",
    "from cp13 import ConstantNumNode, VariableNode, InstantiateNode, PlusNode, MinusNode, StarNode, DivNode\n",
    "from cp13 import FormatVisitor, tokenize_text, pprint_tokens\n",
    "\n",
    "from cmp.tools.parsing import LR1Parser\n",
    "from cmp.evaluation import evaluate_reverse_parse"
   ]
  },
  {
   "cell_type": "markdown",
   "metadata": {},
   "source": [
    "### An\u00e1lisis Sem\u00e1ntico (Recolecci\u00f3n y Construcci\u00f3n de Tipos)"
   ]
  },
  {
   "cell_type": "code",
   "execution_count": null,
   "metadata": {},
   "outputs": [],
   "source": [
    "from cmp.semantic import SemanticError\n",
    "from cmp.semantic import Attribute, Method, Type\n",
    "from cmp.semantic import VoidType, ErrorType, IntType\n",
    "from cmp.semantic import Context\n",
    "\n",
    "from cp14 import TypeCollector, TypeBuilder, run_pipeline"
   ]
  },
  {
   "cell_type": "markdown",
   "metadata": {},
   "source": [
    "## Chequeo de tipos\n",
    "\n",
    "Estaremos validando que el programa haga un uso correcto de los tipos definidos. Recordemos algunas de las caracter\u00edsticas del lenguaje que queremos comprobar:\n",
    "- Todos los m\u00e9todos son de instancia y dentro de ellos es visible `self` _(solo lectura)_, cuyo tipo est\u00e1tico coincide con el de la clase que implementa el m\u00e9todo.\n",
    "- Al invocar un m\u00e9todo, se eval\u00faa primero la expresi\u00f3n que devuelve el objeto, luego los par\u00e1metros, y por \u00faltimo se llama la funci\u00f3n.\n",
    "- Todos los atributos son privados y todos los m\u00e9todos son p\u00fablicos.\n",
    "- Un m\u00e9todo se puede sobrescribir s\u00ed y solo s\u00ed se mantiene exactamente la misma definici\u00f3n para los tipos de retorno y de los argumentos.\n",
    "- La expresi\u00f3n `let` tiene la sintaxis: `let <var>: <type> = <expr>` y eval\u00faa al valor de la expresi\u00f3n (y con el tipo est\u00e1tico de la expresi\u00f3n). La variable `<var>` no puede estar previamente definida en ese \u00e1mbito. Se puede omitir la declaraci\u00f3n del tipo y en tal caso la variable `<var>` ya debe estar definida y se realiza la asignaci\u00f3n.\n",
    "- Las operaciones `+`, `-`, `*` y `/` est\u00e1n definidas \u00fanicamente entre valores enteros, y devuelven enteros."
   ]
  },
  {
   "cell_type": "code",
   "execution_count": null,
   "metadata": {},
   "outputs": [],
   "source": [
    "WRONG_SIGNATURE = 'Method \"%s\" already defined in \"%s\" with a different signature.'\n",
    "SELF_IS_READONLY = 'Variable \"self\" is read-only.'\n",
    "LOCAL_ALREADY_DEFINED = 'Variable \"%s\" is already defined in method \"%s\".'\n",
    "INCOMPATIBLE_TYPES = 'Cannot convert \"%s\" into \"%s\".'\n",
    "VARIABLE_NOT_DEFINED = 'Variable \"%s\" is not defined in \"%s\".'\n",
    "INVALID_OPERATION = 'Operation is not defined between \"%s\" and \"%s\".'"
   ]
  },
  {
   "cell_type": "markdown",
   "metadata": {},
   "source": [
    "La clase `Type` ha sido extendida para incluir la funci\u00f3n `conforms_to`. Recordemos que esta relaci\u00f3n indica que un objeto de tipo `C` puede ser usado en lugar de un objeto de tipo `P`. En tal caso decimos que `C.conforms_to(P)`. La relaci\u00f3n de conformidad es crucial en los lenguajes de programaci\u00f3n orientados a objetos pues restringir\u00e1 las asignaciones e invocaciones para garantizar el principio de sustituci\u00f3n."
   ]
  },
  {
   "cell_type": "markdown",
   "metadata": {},
   "source": [
    "### \u00c1mbito (Scope)\n",
    "\n",
    "Se provee una implementaci\u00f3n de la clase `Scope` en `cmp.semantic`. Esta clase nos permitir\u00e1 gestionar las variables definidas en los distintos niveles de visibilidad, as\u00ed como saber con qu\u00e9 tipo se definieron. Los m\u00e9todos fundamentales son:\n",
    "- `create_child`: Crea un `scope` hijo que hereda las variables visibles hasta ese momento en el `scope` padre.\n",
    "- `define_variable`: Registra localmente una variable en el `scope` a partir de su nombre y tipo.\n",
    "- `find_variable`: Devuelve un `VariableInfo` con la informaci\u00f3n de la variable consultada (a partir de su nombre). La variable devuelta no tiene por qu\u00e9 estar definida localmente. En caso de que la variable no est\u00e9 definida devuelve `None`.\n",
    "- `is_defined`: Indica si la variable consultada es visible en el `scope`.\n",
    "- `is_local`: Indica si la variable consultada est\u00e1 definida localmente en el `scope`."
   ]
  },
  {
   "cell_type": "code",
   "execution_count": null,
   "metadata": {},
   "outputs": [],
   "source": [
    "from cmp.semantic import Scope"
   ]
  },
  {
   "cell_type": "markdown",
   "metadata": {},
   "source": [
    "### Type Checker Visitor\n",
    "\n",
    "Implementaremos un nuevo recorrido sobre el AST. Como de costumbre nos apoyaremos en el patr\u00f3n visitor. Debemos caminar desde la ra\u00edz del AST (`ProgramNode`) hasta el cuerpo de los m\u00e9todos. En esta ocasi\u00f3n adem\u00e1s, verificaremos que los m\u00e9todos construidos en el recorrido anterior no hayan tenido sobrecargas distintas a lo largo del \u00e1rbol de herencia."
   ]
  },
  {
   "cell_type": "code",
   "execution_count": null,
   "metadata": {},
   "outputs": [],
   "source": [
    "class TypeChecker:\n",
    "    def __init__(self, context, errors=[]):\n",
    "        self.context = context\n",
    "        self.current_type = None\n",
    "        self.current_method = None\n",
    "        self.errors = errors\n",
    "\n",
    "    @visitor.on('node')\n",
    "    def visit(self, node, scope):\n",
    "        pass\n",
    "\n",
    "    @visitor.when(ProgramNode)\n",
    "    def visit(self, node, scope=None):\n",
    "        scope = Scope()\n",
    "        for declaration in node.declarations:\n",
    "            self.visit(declaration, scope.create_child())\n",
    "        return scope\n",
    "\n",
    "    @visitor.when(ClassDeclarationNode)\n",
    "    def visit(self, node, scope):\n",
    "        pass\n",
    "        \n",
    "    @visitor.when(AttrDeclarationNode)\n",
    "    def visit(self, node, scope):\n",
    "        pass\n",
    "\n",
    "    @visitor.when(FuncDeclarationNode)\n",
    "    def visit(self, node, scope):\n",
    "        pass\n",
    "    \n",
    "    @visitor.when(VarDeclarationNode)\n",
    "    def visit(self, node, scope):\n",
    "        pass\n",
    "            \n",
    "    @visitor.when(AssignNode)\n",
    "    def visit(self, node, scope):\n",
    "        pass\n",
    "    \n",
    "    @visitor.when(CallNode)\n",
    "    def visit(self, node, scope):\n",
    "        pass\n",
    "    \n",
    "    @visitor.when(BinaryNode)\n",
    "    def visit(self, node, scope):\n",
    "        pass\n",
    "    \n",
    "    @visitor.when(ConstantNumNode)\n",
    "    def visit(self, node, scope):\n",
    "        pass\n",
    "\n",
    "    @visitor.when(VariableNode)\n",
    "    def visit(self, node, scope):\n",
    "        pass\n",
    "\n",
    "    @visitor.when(InstantiateNode)\n",
    "    def visit(self, node, scope):\n",
    "        pass\n"
   ]
  },
  {
   "cell_type": "markdown",
   "metadata": {},
   "source": [
    "### Pipeline\n",
    "\n",
    "Actualicemos el m\u00e9todo `run_pipeline` para incluir esta nueva fase. Con eso deber\u00edamos completar una l\u00ednea de ejecuci\u00f3n para llegar al final del chequeo sem\u00e1ntico partiendo desde el programa en texto plano y la gram\u00e1tica."
   ]
  },
  {
   "cell_type": "code",
   "execution_count": null,
   "metadata": {},
   "outputs": [],
   "source": [
    "from cp14 import run_pipeline as deprecated_pipeline\n",
    "\n",
    "def run_pipeline(G, text):\n",
    "    ast, errors, context = deprecated_pipeline(G, text)\n",
    "    print('=============== CHECKING TYPES ================')\n",
    "    checker = TypeChecker(context, errors)\n",
    "    scope = checker.visit(ast)\n",
    "    print('Errors: [')\n",
    "    for error in errors:\n",
    "        print('\\t', error)\n",
    "    print(']')\n",
    "    return ast, errors, context, scope"
   ]
  },
  {
   "cell_type": "markdown",
   "metadata": {},
   "source": [
    "### Programa #1\n",
    "\n",
    "El siguiente programa no deber\u00eda contener errores."
   ]
  },
  {
   "cell_type": "code",
   "execution_count": null,
   "metadata": {},
   "outputs": [],
   "source": [
    "text = '''\n",
    "class A {\n",
    "    a : int ;\n",
    "    def suma ( a : int , b : int ) : int {\n",
    "        a + b ;\n",
    "    }\n",
    "    b : int ;\n",
    "}\n",
    "\n",
    "class B : A {\n",
    "    c : int ;\n",
    "    def f ( d : int , a : A ) : void {\n",
    "        let f : int = 8 ;\n",
    "        let c = new A ( ) . suma ( 5 , f ) ;\n",
    "        c ;\n",
    "    }\n",
    "}\n",
    "'''\n",
    "\n",
    "if __name__ == '__main__':\n",
    "    ast, errors, context, scope = run_pipeline(G, text)\n",
    "    assert not errors"
   ]
  },
  {
   "cell_type": "markdown",
   "metadata": {},
   "source": [
    "### Programa #2\n",
    "\n",
    "Se incluyeron varios errores al programa anterior. Intente detectar todos los errores posibles."
   ]
  },
  {
   "cell_type": "code",
   "execution_count": null,
   "metadata": {},
   "outputs": [],
   "source": [
    "text = '''\n",
    "class A {\n",
    "    a : int ;\n",
    "    def suma ( a : int , b : int ) : int {\n",
    "        a + b + new B ( ) ;\n",
    "    }\n",
    "    b : int ;\n",
    "}\n",
    "\n",
    "class B : A {\n",
    "    c : A ;\n",
    "    def f ( d : int , a : A ) : void {\n",
    "        let f : int = 8 ;\n",
    "        let c = new A ( ) . suma ( 5 , f ) ;\n",
    "        d ;        \n",
    "    }\n",
    "}\n",
    "'''\n",
    "\n",
    "if __name__ == '__main__':\n",
    "    ast, errors, context, scope = run_pipeline(G, text)\n",
    "    assert set(errors) == {\n",
    "\t 'Operation is not defined between \"int\" and \"B\".',\n",
    "\t 'Cannot convert \"int\" into \"A\".'\n",
    "    }"
   ]
  },
  {
   "cell_type": "markdown",
   "metadata": {},
   "source": [
    "## Propuestas\n",
    "\n",
    "- A\u00f1ada support (en una rama alternativa) para detectar fila y columna donde ocurri\u00f3 el error."
   ]
  }
 ],
 "metadata": {
  "kernelspec": {
   "display_name": "Python 3",
   "language": "python",
   "name": "python3"
  },
  "language_info": {
   "codemirror_mode": {
    "name": "ipython",
    "version": 3
   },
   "file_extension": ".py",
   "mimetype": "text/x-python",
   "name": "python",
   "nbconvert_exporter": "python",
   "pygments_lexer": "ipython3",
   "version": "3.6.4"
  }
 },
 "nbformat": 4,
 "nbformat_minor": 2
}