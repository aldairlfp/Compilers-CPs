{
 "cells": [
  {
   "cell_type": "markdown",
   "metadata": {},
   "source": [
    "# Clase Práctica #6 (Compilación)"
   ]
  },
  {
   "cell_type": "code",
   "execution_count": 9,
   "metadata": {},
   "outputs": [],
   "source": [
    "import pydot"
   ]
  },
  {
   "cell_type": "markdown",
   "metadata": {},
   "source": [
    "## Autómatas finitos\n",
    "\n",
    "Un autómata finito (determinista o no determinista) es un quíntuplo $A = <Q,q_0,V,F,f>$ con las siguientes características:\n",
    "\n",
    "* $Q$ es un conjunto finito de estados ($Q = \\{ q_0, \\ldots, q_n \\}$), de ahí el adjetivo de **finito**.\n",
    "* $q_0 \\in Q$ es el estado inicial.\n",
    "* $V$ es un conjunto finito de símbolos que pueden aparecer en la cinta.\n",
    "* $F \\subseteq Q$ es un subconjunto de estados que denominaremos *estados finales*.\n",
    "* $f$ es una *función de transición*, que determina, para cada par posible de estados y símbolos, cuál es el estado de destino. En la forma de esta función radica justamente la diferencia entre AF determinista y no determinista:\n",
    "    - $f: Q \\times V \\to Q$ denota un autómata **determinista** justamente porque en un estado particular, para un símbolo particular, existe solamente un estado posible de destino (o ninguno), por lo tanto, siempre existe una única decisión que tomar.\n",
    "    - $f: Q \\times (V \\cup \\{ \\epsilon \\}) \\to 2^Q$ denota un autómata **no determinista** porque en un estado particular, para un símbolo particular, existen potencialmente múltiples estados de destino (o ninguno). Incluso permite realizar $\\epsilon$-transiciones (transiciones que no consumen símbolos de la cinta) lo cual resalta aún más el carácter no determinista de estos autómatas."
   ]
  },
  {
   "cell_type": "markdown",
   "metadata": {},
   "source": [
    "### Pasando a Python\n",
    "\n",
    "Modelemos los autómatas finitos no deterministas con la clase `NFA`. Dado que nunca los usaremos directamente para reconocer cadenas, estos funcionarán simplemente como contenedores de los estados y transiciones."
   ]
  },
  {
   "cell_type": "code",
   "execution_count": 10,
   "metadata": {},
   "outputs": [],
   "source": [
    "class NFA:\n",
    "    def __init__(self, states, finals, transitions, start=0):\n",
    "        self.states = states\n",
    "        self.start = start\n",
    "        self.finals = set(finals)\n",
    "        self.map = transitions\n",
    "        self.vocabulary = set()\n",
    "        self.transitions = { state: {} for state in range(states) }\n",
    "        \n",
    "        for (origin, symbol), destinations in transitions.items():\n",
    "            assert hasattr(destinations, '__iter__'), 'Invalid collection of states'\n",
    "            self.transitions[origin][symbol] = destinations\n",
    "            self.vocabulary.add(symbol)\n",
    "            \n",
    "        self.vocabulary.discard('')\n",
    "        \n",
    "    def epsilon_transitions(self, state):\n",
    "        assert state in self.transitions, 'Invalid state'\n",
    "        try:\n",
    "            return self.transitions[state]['']\n",
    "        except KeyError:\n",
    "            return ()\n",
    "            \n",
    "    def graph(self):\n",
    "        G = pydot.Dot(rankdir='LR', margin=0.1)\n",
    "        G.add_node(pydot.Node('start', shape='plaintext', label='', width=0, height=0))\n",
    "\n",
    "        for (start, tran), destinations in self.map.items():\n",
    "            tran = 'ε' if tran == '' else tran\n",
    "            G.add_node(pydot.Node(start, shape='circle', style='bold' if start in self.finals else ''))\n",
    "            for end in destinations:\n",
    "                G.add_node(pydot.Node(end, shape='circle', style='bold' if end in self.finals else ''))\n",
    "                G.add_edge(pydot.Edge(start, end, label=tran, labeldistance=2))\n",
    "\n",
    "        G.add_edge(pydot.Edge('start', self.start, label='', style='dashed'))\n",
    "        return G\n",
    "\n",
    "    def _repr_svg_(self):\n",
    "        try:\n",
    "            return self.graph().create_svg().decode('utf8')\n",
    "        except:\n",
    "            pass"
   ]
  },
  {
   "cell_type": "markdown",
   "metadata": {},
   "source": [
    "Los parámetros del constructor tienen la siguente semántica:\n",
    "- `states`: representa en número de estados del autómata. Los estados se modelarán como números, comenzando en `0` y hasta `states-1`.\n",
    "- `finals`: representa la colección de estados finales del autómata. Dado que los estados se representan con números, este debe ser una colección de números.\n",
    "- `transitions`: representa la función de transición. Se espera un diccionario que, dados como llaves un estado origen (un número) y un símbolo (un string), devuelve como valor una colección de estados destino (números). Para renotar una $\\epsilon$-transición usaremos el string vacío.\n",
    "- `start`: representa el estado inicial del autómata.\n",
    "\n",
    "Por ejemplo, construyamos un autómata que reconozca el lenguaje de las cadenas sobre `{a,b}*` que terminan en `ba`."
   ]
  },
  {
   "cell_type": "code",
   "execution_count": 11,
   "metadata": {},
   "outputs": [
    {
     "data": {
      "text/plain": [
       "<__main__.NFA at 0x1a4a680cb50>"
      ]
     },
     "execution_count": 11,
     "metadata": {},
     "output_type": "execute_result"
    }
   ],
   "source": [
    "nfa = NFA(states=3, finals=[2], transitions={\n",
    "    (0, 'a'): [0],\n",
    "    (0, 'b'): [0, 1],\n",
    "    (1, 'a'): [2]\n",
    "})\n",
    "nfa"
   ]
  },
  {
   "cell_type": "markdown",
   "metadata": {},
   "source": [
    "![](cp6-files/0.svg)"
   ]
  },
  {
   "cell_type": "markdown",
   "metadata": {},
   "source": [
    "Una vez construida la instancia las transiciones pueden accederse de forma más cómoda a través del campo `transitions`. Las transiciones están agrupadas por estado origen, y luego por símbolo: $(Q \\to (V \\to Q))$."
   ]
  },
  {
   "cell_type": "code",
   "execution_count": 12,
   "metadata": {},
   "outputs": [
    {
     "data": {
      "text/plain": [
       "{0: {'a': [0], 'b': [0, 1]}, 1: {'a': [2]}, 2: {}}"
      ]
     },
     "execution_count": 12,
     "metadata": {},
     "output_type": "execute_result"
    }
   ],
   "source": [
    "nfa.transitions"
   ]
  },
  {
   "cell_type": "markdown",
   "metadata": {},
   "source": [
    "### Autómatas finitos deterministas\n",
    "\n",
    "Modelemos los autómatas finitos deterministas con la clase `DFA`. Esta clase extiende la clase `NFA` para:\n",
    "- Usar la función de transición propia de los autómatas finitos deterministas.\n",
    "- Implementar un algoritmo de reconocimiento de cadenas."
   ]
  },
  {
   "cell_type": "code",
   "execution_count": 13,
   "metadata": {},
   "outputs": [],
   "source": [
    "class DFA(NFA):\n",
    "    \n",
    "    def __init__(self, states, finals, transitions, start=0):\n",
    "        assert all(isinstance(value, int) for value in transitions.values())\n",
    "        assert all(len(symbol) > 0 for origin, symbol in transitions)\n",
    "        \n",
    "        transitions = { key: [value] for key, value in transitions.items() }\n",
    "        NFA.__init__(self, states, finals, transitions, start)\n",
    "        self.current = start\n",
    "        \n",
    "    def _move(self, symbol):\n",
    "        try:\n",
    "            self.current = self.transitions[self.current][symbol][0]\n",
    "        except KeyError:\n",
    "            self.current = -1\n",
    "    \n",
    "    def _reset(self):\n",
    "        self.current = self.start\n",
    "        \n",
    "    def recognize(self, string):\n",
    "        self._reset()\n",
    "        for symbol in string:\n",
    "            self._move(symbol)\n",
    "            if self.current == -1:\n",
    "                return False\n",
    "        return self.current in self.finals\n"
   ]
  },
  {
   "cell_type": "markdown",
   "metadata": {},
   "source": [
    "La instancia se construye de forma similar a los NFA, salvo por la forma de la función de transición que, en lugar de una colección de estados destino, contiene un único estado destino."
   ]
  },
  {
   "cell_type": "code",
   "execution_count": 14,
   "metadata": {},
   "outputs": [
    {
     "data": {
      "text/plain": [
       "<__main__.DFA at 0x1a4a68b4160>"
      ]
     },
     "execution_count": 14,
     "metadata": {},
     "output_type": "execute_result"
    }
   ],
   "source": [
    "automaton = DFA(states=3, finals=[2], transitions={\n",
    "    (0, 'a'): 0,\n",
    "    (0, 'b'): 1,\n",
    "    (1, 'a'): 2,\n",
    "    (1, 'b'): 1,\n",
    "    (2, 'a'): 0,\n",
    "    (2, 'b'): 1,\n",
    "})\n",
    "automaton"
   ]
  },
  {
   "cell_type": "markdown",
   "metadata": {},
   "source": [
    "![](cp6-files/1.svg)"
   ]
  },
  {
   "cell_type": "markdown",
   "metadata": {},
   "source": [
    "El autómata anterior reconoce el lenguaje de las cadenas sobre `{a,b}*` que terminan en `ba`."
   ]
  },
  {
   "cell_type": "code",
   "execution_count": 15,
   "metadata": {},
   "outputs": [],
   "source": [
    "assert automaton.recognize('ba')\n",
    "assert automaton.recognize('aababbaba')\n",
    "\n",
    "assert not automaton.recognize('')\n",
    "assert not automaton.recognize('aabaa')\n",
    "assert not automaton.recognize('aababb')"
   ]
  },
  {
   "cell_type": "markdown",
   "metadata": {},
   "source": [
    "## Equivalencia entre DFA y NFA\n",
    "\n",
    "Como estudiamos en conferencia, los autómatas finitos deterministas y no deterministas tienen el mismo poder de reconocimiento: ambos reconocen la familia de lenguajes regulares. Dicha característica nos indica que deberían ser transformables los unos a los otros.\n",
    "\n",
    "La transformación de DFA a NFA es bastante trivial, ya que un autómata finito determinista puede verse como uno no deterministas sin $\\epsilon$-transiciones y en el que los conjuntos de estados destinos en las respectivas transiciones siempre tiene tamaño 1 (o 0). De hecho, eso es lo que hacemos en el constructor de la clase `DFA` que hereda de `NFA`.\n",
    "\n",
    "La transformación de NFA a DFA se basa en simular las transiciones entre los posibles estados en los que puede estar a la vez el NFA durante el reconocimiento de cualquier cadena. Los estados de la versión transformada del NFA serán cada uno un subconjunto del conjunto de estados original. Sabemos que el número de posibles configuraciones de estados en los que puede estar a la vez es finito, ya que el número de estados del autómata es finito. Un autómata con $N$ estados puede tener a lo sumo $2^N$ posibles configuraciones de estados distintas.\n",
    "\n",
    "El algoritmo clásico para convertir de NFA a DFA se apoya en 2 definiciones auxiliares:\n",
    "- `move(T,a)`: conjunto de estados del NFA hacia los que hay una transición con el símbolo de entrada `a` desde algún estado de `T`.\n",
    "- $\\epsilon$-closure`(T)`: conjunto de estados del NFA alcanzables desde algún estado de `T` realizando únicamente $\\epsilon$-transiciones."
   ]
  },
  {
   "cell_type": "code",
   "execution_count": 16,
   "metadata": {},
   "outputs": [],
   "source": [
    "from cmp.utils import ContainerSet"
   ]
  },
  {
   "cell_type": "markdown",
   "metadata": {},
   "source": [
    "Trabajaremos con el siguiente autómata de ejemplo, que reconoce el lenguaje `c*|(a|b)d*`."
   ]
  },
  {
   "cell_type": "code",
   "execution_count": 17,
   "metadata": {},
   "outputs": [
    {
     "data": {
      "text/plain": [
       "<__main__.NFA at 0x1a4a6857f70>"
      ]
     },
     "execution_count": 17,
     "metadata": {},
     "output_type": "execute_result"
    }
   ],
   "source": [
    "automaton = NFA(states=6, finals=[3, 5], transitions={\n",
    "    (0, ''): [ 1, 2 ],\n",
    "    (1, ''): [ 3 ],\n",
    "    (1,'b'): [ 4 ],\n",
    "    (2,'a'): [ 4 ],\n",
    "    (3,'c'): [ 3 ],\n",
    "    (4, ''): [ 5 ],\n",
    "    (5,'d'): [ 5 ]\n",
    "})\n",
    "automaton"
   ]
  },
  {
   "cell_type": "markdown",
   "metadata": {},
   "source": [
    "![](cp6-files/2.svg)"
   ]
  },
  {
   "cell_type": "markdown",
   "metadata": {},
   "source": [
    "Pasemos a computar `move(T,a)`. El método `move(automaton, states, symbol)` computa el conjunto `move(states, symbol)` con las transiciones registradas en `automaton`."
   ]
  },
  {
   "cell_type": "code",
   "execution_count": 19,
   "metadata": {},
   "outputs": [],
   "source": [
    "def move(automaton, states, symbol):\n",
    "    moves = set()\n",
    "    for state in states:\n",
    "        try:\n",
    "            moves.update(automaton.transitions[state][symbol])\n",
    "        except KeyError:\n",
    "            pass\n",
    "    return moves\n",
    "\n",
    "assert move(automaton, [1], 'a') == set()\n",
    "assert move(automaton, [2], 'a') == {4}\n",
    "assert move(automaton, [1, 5], 'd') == {5}"
   ]
  },
  {
   "cell_type": "markdown",
   "metadata": {},
   "source": [
    "Pasemos a computar $\\epsilon$-closure`(T)`. El método `epsilon_closure(automaton, states)` computa el conjunto $\\epsilon$-closure`(states)` con las transiciones registradas en `automaton`."
   ]
  },
  {
   "cell_type": "code",
   "execution_count": 22,
   "metadata": {},
   "outputs": [],
   "source": [
    "def epsilon_closure(automaton, states):\n",
    "    pending = [ s for s in states ] # equivalente a list(states) pero me gusta así :p\n",
    "    closure = { s for s in states } # equivalente a  set(states) pero me gusta así :p\n",
    "    \n",
    "    while pending:\n",
    "        state = pending.pop()\n",
    "        for dest in automaton.epsilon_transitions(state):\n",
    "            if dest not in closure:\n",
    "                closure.add(dest)\n",
    "                pending.append(dest)\n",
    "                \n",
    "    return ContainerSet(*closure)\n",
    "\n",
    "assert epsilon_closure(automaton, [0]) == {0,1,2,3}\n",
    "assert epsilon_closure(automaton, [0, 4]) == {0,1,2,3,4,5}\n",
    "assert epsilon_closure(automaton, [1, 2, 4]) == {1,2,3,4,5}"
   ]
  },
  {
   "cell_type": "markdown",
   "metadata": {},
   "source": [
    "Finalmente implementemos el algoritmo para convertir de autómata finito no determinista a determinista."
   ]
  },
  {
   "cell_type": "code",
   "execution_count": 28,
   "metadata": {},
   "outputs": [],
   "source": [
    "def nfa_to_dfa(automaton):\n",
    "    transitions = {}\n",
    "    \n",
    "    start = epsilon_closure(automaton, [automaton.start])\n",
    "    start.id = 0\n",
    "    start.is_final = any(s in automaton.finals for s in start)\n",
    "    states = [ start ]\n",
    "\n",
    "    pending = [ start ]\n",
    "    while pending:\n",
    "        state = pending.pop()\n",
    "        \n",
    "        for symbol in automaton.vocabulary:\n",
    "            destinations = move(automaton, state, symbol)\n",
    "            destinations = epsilon_closure(automaton, destinations)\n",
    "            if len(destinations) == 0:\n",
    "                continue\n",
    "            if destinations not in states:\n",
    "                destinations.is_final = any(\n",
    "                    s in automaton.finals for s in destinations)\n",
    "                destinations.id = len(states)\n",
    "                states.append(destinations)\n",
    "                pending.append(destinations)\n",
    "            else:\n",
    "                destinations = states[states.index(destinations)]\n",
    "\n",
    "            try:\n",
    "                transitions[state.id, symbol]\n",
    "                assert False, 'Invalid DFA!!!'\n",
    "            except KeyError:\n",
    "                transitions[state.id, symbol] = destinations.id\n",
    "            except AssertionError:\n",
    "                pass\n",
    "    \n",
    "    finals = [ state.id for state in states if state.is_final ]\n",
    "    dfa = DFA(len(states), finals, transitions)\n",
    "    return dfa"
   ]
  },
  {
   "cell_type": "markdown",
   "metadata": {},
   "source": [
    "Comprobemos que funciona el algoritmo. El DFA resultante debería reconocer el mismo lenguaje que el NFA original: `c*|(a|b)d*`."
   ]
  },
  {
   "cell_type": "code",
   "execution_count": 29,
   "metadata": {},
   "outputs": [
    {
     "data": {
      "text/plain": [
       "<__main__.DFA at 0x1a4a6a1e5c0>"
      ]
     },
     "metadata": {},
     "output_type": "display_data"
    }
   ],
   "source": [
    "dfa = nfa_to_dfa(automaton)\n",
    "display(dfa)\n",
    "\n",
    "assert dfa.states == 4\n",
    "assert len(dfa.finals) == 4\n",
    "\n",
    "assert dfa.recognize('')\n",
    "assert dfa.recognize('a')\n",
    "assert dfa.recognize('b')\n",
    "assert dfa.recognize('cccccc')\n",
    "assert dfa.recognize('adddd')\n",
    "assert dfa.recognize('bdddd')\n",
    "\n",
    "assert not dfa.recognize('dddddd')\n",
    "assert not dfa.recognize('cdddd')\n",
    "assert not dfa.recognize('aa')\n",
    "assert not dfa.recognize('ab')\n",
    "assert not dfa.recognize('ddddc')"
   ]
  },
  {
   "cell_type": "markdown",
   "metadata": {},
   "source": [
    "![](cp6-files/3.svg)"
   ]
  },
  {
   "cell_type": "markdown",
   "metadata": {},
   "source": [
    "### Probando con otros autómatas\n",
    "\n",
    "Qué lenguaje reconoce el siguiente autómata?"
   ]
  },
  {
   "cell_type": "code",
   "execution_count": 30,
   "metadata": {},
   "outputs": [
    {
     "data": {
      "text/plain": [
       "<__main__.NFA at 0x1a4a6a8c6d0>"
      ]
     },
     "metadata": {},
     "output_type": "display_data"
    },
    {
     "name": "stdout",
     "output_type": "stream",
     "text": [
      "No sé que lenguaje reconoce :'(\n"
     ]
    },
    {
     "data": {
      "text/plain": [
       "<__main__.DFA at 0x1a4a7e1fa30>"
      ]
     },
     "metadata": {},
     "output_type": "display_data"
    }
   ],
   "source": [
    "automaton = NFA(states=3, finals=[2], transitions={\n",
    "    (0,'a'): [ 0 ],\n",
    "    (0,'b'): [ 0, 1 ],\n",
    "    (1,'a'): [ 2 ],\n",
    "    (1,'b'): [ 2 ],\n",
    "})\n",
    "display(automaton)\n",
    "\n",
    "print(\"No sé que lenguaje reconoce :'(\")\n",
    "\n",
    "\n",
    "assert move(automaton, [0, 1], 'a') == {0, 2}\n",
    "assert move(automaton, [0, 1], 'b') == {0, 1, 2}\n",
    "\n",
    "dfa = nfa_to_dfa(automaton)\n",
    "display(dfa)\n",
    "\n",
    "assert dfa.states == 4\n",
    "assert len(dfa.finals) == 2\n",
    "\n",
    "assert dfa.recognize('aba')\n",
    "assert dfa.recognize('bb')\n",
    "assert dfa.recognize('aaaaaaaaaaaba')\n",
    "\n",
    "assert not dfa.recognize('aaa')\n",
    "assert not dfa.recognize('ab')\n",
    "assert not dfa.recognize('b')\n",
    "assert not dfa.recognize('')"
   ]
  },
  {
   "cell_type": "markdown",
   "metadata": {},
   "source": [
    "![](cp6-files/4.svg)\n",
    "![](cp6-files/5.svg)"
   ]
  },
  {
   "cell_type": "markdown",
   "metadata": {},
   "source": [
    "Y este?"
   ]
  },
  {
   "cell_type": "code",
   "execution_count": 31,
   "metadata": {},
   "outputs": [
    {
     "data": {
      "text/plain": [
       "<__main__.NFA at 0x1a4a6a8e5c0>"
      ]
     },
     "metadata": {},
     "output_type": "display_data"
    },
    {
     "name": "stdout",
     "output_type": "stream",
     "text": [
      "No sé que lenguaje reconoce :'(\n"
     ]
    },
    {
     "data": {
      "text/plain": [
       "<__main__.DFA at 0x1a4a67ec370>"
      ]
     },
     "metadata": {},
     "output_type": "display_data"
    }
   ],
   "source": [
    "automaton = NFA(states=5, finals=[4], transitions={\n",
    "    (0,'a'): [ 0, 1 ],\n",
    "    (0,'b'): [ 0, 2 ],\n",
    "    (0,'c'): [ 0, 3 ],\n",
    "    (1,'a'): [ 1, 4 ],\n",
    "    (1,'b'): [ 1 ],\n",
    "    (1,'c'): [ 1 ],\n",
    "    (2,'a'): [ 2 ],\n",
    "    (2,'b'): [ 2, 4 ],\n",
    "    (2,'c'): [ 2 ],\n",
    "    (3,'a'): [ 3 ],\n",
    "    (3,'b'): [ 3 ],\n",
    "    (3,'c'): [ 3, 4 ],\n",
    "})\n",
    "display(automaton)\n",
    "\n",
    "print(\"No sé que lenguaje reconoce :'(\")\n",
    "\n",
    "dfa = nfa_to_dfa(automaton)\n",
    "display(dfa)\n",
    "\n",
    "assert dfa.states == 15\n",
    "assert len(dfa.finals) == 7\n",
    "\n",
    "assert dfa.recognize('abccac')\n",
    "assert dfa.recognize('bbbbbbbbaa')\n",
    "assert dfa.recognize('cac')\n",
    "\n",
    "assert not dfa.recognize('abbbbc')\n",
    "assert not dfa.recognize('a')\n",
    "assert not dfa.recognize('')\n",
    "assert not dfa.recognize('acacacaccab')"
   ]
  },
  {
   "cell_type": "markdown",
   "metadata": {},
   "source": [
    "![](cp6-files/6.svg)\n",
    "![](cp6-files/7.svg)"
   ]
  },
  {
   "cell_type": "markdown",
   "metadata": {},
   "source": [
    "Se le ocurre un autómata determinista para este lenguaje sin pasar por la transformación? "
   ]
  },
  {
   "cell_type": "markdown",
   "metadata": {},
   "source": [
    "## Propuestas\n",
    "\n",
    "- Implemente un algoritmo para reconocer si una cadena pertenece o no al lenguaje denotado por un autómata finito no determinista. Evite utilizar `backtrack` o transformar completamente el NFA a DFA. "
   ]
  },
  {
   "cell_type": "code",
   "execution_count": null,
   "metadata": {},
   "outputs": [],
   "source": [
    "def recognize(nfa, string):\n",
    "    current = epsilon_closure(nfa, [nfa.start])\n",
    "    for symbol in string:\n",
    "        current = epsilon_closure(nfa, move(nfa, current, symbol))\n",
    "    return any(s in nfa.finals for s in current)"
   ]
  },
  {
   "cell_type": "code",
   "execution_count": null,
   "metadata": {},
   "outputs": [],
   "source": [
    "automaton = NFA(states=5, finals=[4], transitions={\n",
    "    (0,'a'): [ 0, 1 ],\n",
    "    (0,'b'): [ 0, 2 ],\n",
    "    (0,'c'): [ 0, 3 ],\n",
    "    (1,'a'): [ 1, 4 ],\n",
    "    (1,'b'): [ 1 ],\n",
    "    (1,'c'): [ 1 ],\n",
    "    (2,'a'): [ 2 ],\n",
    "    (2,'b'): [ 2, 4 ],\n",
    "    (2,'c'): [ 2 ],\n",
    "    (3,'a'): [ 3 ],\n",
    "    (3,'b'): [ 3 ],\n",
    "    (3,'c'): [ 3, 4 ],\n",
    "})\n",
    "\n",
    "assert recognize(automaton, 'abccac')\n",
    "assert recognize(automaton, 'bbbbbbbbaa')\n",
    "assert recognize(automaton, 'cac')\n",
    "\n",
    "assert not recognize(automaton, 'abbbbc')\n",
    "assert not recognize(automaton, 'a')\n",
    "assert not recognize(automaton, '')\n",
    "assert not recognize(automaton, 'acacacaccab')"
   ]
  }
 ],
 "metadata": {
  "kernelspec": {
   "display_name": "Python 3",
   "language": "python",
   "name": "python3"
  },
  "language_info": {
   "codemirror_mode": {
    "name": "ipython",
    "version": 3
   },
   "file_extension": ".py",
   "mimetype": "text/x-python",
   "name": "python",
   "nbconvert_exporter": "python",
   "pygments_lexer": "ipython3",
   "version": "3.10.6"
  }
 },
 "nbformat": 4,
 "nbformat_minor": 4
}
