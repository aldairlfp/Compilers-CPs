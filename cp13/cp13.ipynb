{
 "cells": [
  {
   "cell_type": "markdown",
   "metadata": {},
   "source": [
    "# Clase Práctica #13 (Compilación)\n",
    "\n",
    "En esta clase práctica estaremos extendiendo el lenguaje con el que trabajamos en la clase anterior. La principal adición al lenguaje es dar la posibilidad de definir tipos. Esto conlleva nuevos retos durante el chequeo semántico, pues es necesario chequear el uso consistente de los tipos. Varios factores deben ser considerados durante el chequeo, entre los que destacan la herencia y polimorfismo.\n",
    "\n",
    "Las principales reglas del lenguaje se describen a continuación.\n",
    "\n",
    "* Un programa consiste en una lista de definiciones de clases.\n",
    "* Todas las clases se definen en el mismo espacio de nombres global.\n",
    "* Cada clase tiene atributos y métodos.\n",
    "* Los atributos tienen un tipo asociado.\n",
    "* Los métodos tienen un tipo de retorno (que puede ser `void`), y una lista de argumentos.\n",
    "* Todos los métodos son de instancia y dentro de ellos es visible `self` _(solo lectura)_, cuyo tipo estático coincide con el de la clase que implementa el método.\n",
    "* Todos los atributos son privados y todos los métodos son públicos.\n",
    "* Existe herencia simple.\n",
    "* Un método se puede sobrescribir sí y solo sí se mantiene exactamente la misma definición para los tipos de retorno y de los argumentos.\n",
    "* No existen sobrecargas de métodos ni de operadores.\n",
    "\n",
    "La definición de las clases sigue el formato: `class <class-name> { ... }`. En la definición, los atributos y los métodos se pueden intercalar. En caso de herencia, la sintaxis cambia a: `class <class-name> : <parent-name> { ... }`.\n",
    "\n",
    "La definición de atributos tiene la siguiente sintaxis: `<name>: <type>;`. Note que no se incluye expresión de inicialización, sino que el atributo toma el valor por defecto del tipo `<type>`.\n",
    "\n",
    "La definición de métodos cambia a: `def <method-name>(<param0>:<type0>, ..., <paramN>:<typeN>) : <return-type> { ... }`. El cuerpo del método es una lista de expresiones terminadas por `;`, y el valor de retorno coincide con el de la última expresión (en caso de que el método sea `void` simplemente no se devuelve nada).\n",
    "\n",
    "Se adiciona la expresión `new <type>()` que crea una nueva instancia del tipo `<type>`. Note que no se pueden pasar parámetros.\n",
    "\n",
    "En esta extensión, la instrucción `print` se elimina, y la instrucción `let` pasa a ser una expresión. La expresión `let` tiene la sintaxis: `let <var>: <type> = <expr>` y evalúa al valor de la expresión (y con el tipo estático de la expresión). La variable `<var>` no puede estar previamente definida en ese ámbito. Se puede omitir la declaración del tipo y en tal caso la variable `<var>` ya debe estar definida y se realiza la asignación. La expresión `let` es la expresión de menor precedencia.\n",
    "\n",
    "El resto de las expresiones del lenguaje se mantiene sin cambios.\n",
    "\n",
    "> Recordemos que, por simplicar, tanto la declaración de funciones como el llamado a funciones reciben al menos un parámetro/argumento."
   ]
  },
  {
   "cell_type": "markdown",
   "metadata": {},
   "source": [
    "## Jerarquía del AST\n",
    "\n",
    "Comencemos por definir los tipos de nodos que compondrán el AST. Recordemos que estos nodos deben ser capaces de atrapar toda la semántica del programa.\n",
    "\n"
   ]
  },
  {
   "cell_type": "code",
   "execution_count": 7,
   "metadata": {},
   "outputs": [],
   "source": [
    "class Node:\n",
    "    pass"
   ]
  },
  {
   "cell_type": "markdown",
   "metadata": {},
   "source": [
    " "
   ]
  },
  {
   "cell_type": "code",
   "execution_count": 8,
   "metadata": {},
   "outputs": [],
   "source": [
    "class ProgramNode(Node):\n",
    "    def __init__(self, declarations):\n",
    "        self.declarations = declarations\n",
    "\n",
    "class DeclarationNode(Node):\n",
    "    pass\n",
    "class ExpressionNode(Node):\n",
    "    pass"
   ]
  },
  {
   "cell_type": "markdown",
   "metadata": {},
   "source": [
    " "
   ]
  },
  {
   "cell_type": "code",
   "execution_count": 9,
   "metadata": {},
   "outputs": [],
   "source": [
    "class ClassDeclarationNode(DeclarationNode):\n",
    "    def __init__(self, idx, features, parent=None):\n",
    "        self.id = idx\n",
    "        self.parent = parent\n",
    "        self.features = features\n",
    "\n",
    "class FuncDeclarationNode(DeclarationNode):\n",
    "    def __init__(self, idx, params, return_type, body):\n",
    "        self.id = idx\n",
    "        self.params = params\n",
    "        self.type = return_type\n",
    "        self.body = body\n",
    "\n",
    "class AttrDeclarationNode(DeclarationNode):\n",
    "    def __init__(self, idx, typex):\n",
    "        self.id = idx\n",
    "        self.type = typex"
   ]
  },
  {
   "cell_type": "markdown",
   "metadata": {},
   "source": [
    " "
   ]
  },
  {
   "cell_type": "code",
   "execution_count": 10,
   "metadata": {},
   "outputs": [],
   "source": [
    "class VarDeclarationNode(ExpressionNode):\n",
    "    def __init__(self, idx, typex, expr):\n",
    "        self.id = idx\n",
    "        self.type = typex\n",
    "        self.expr = expr\n",
    "\n",
    "class AssignNode(ExpressionNode):\n",
    "    def __init__(self, idx, expr):\n",
    "        self.id = idx\n",
    "        self.expr = expr\n",
    "\n",
    "class CallNode(ExpressionNode):\n",
    "    def __init__(self, obj, idx, args):\n",
    "        self.obj = obj\n",
    "        self.id = idx\n",
    "        self.args = args"
   ]
  },
  {
   "cell_type": "markdown",
   "metadata": {},
   "source": [
    " "
   ]
  },
  {
   "cell_type": "code",
   "execution_count": 11,
   "metadata": {},
   "outputs": [],
   "source": [
    "class AtomicNode(ExpressionNode):\n",
    "    def __init__(self, lex):\n",
    "        self.lex = lex\n",
    "\n",
    "class BinaryNode(ExpressionNode):\n",
    "    def __init__(self, left, right):\n",
    "        self.left = left\n",
    "        self.right = right"
   ]
  },
  {
   "cell_type": "markdown",
   "metadata": {},
   "source": [
    " "
   ]
  },
  {
   "cell_type": "code",
   "execution_count": 12,
   "metadata": {},
   "outputs": [],
   "source": [
    "class ConstantNumNode(AtomicNode):\n",
    "    pass\n",
    "class VariableNode(AtomicNode):\n",
    "    pass\n",
    "class InstantiateNode(AtomicNode):\n",
    "    pass\n",
    "class PlusNode(BinaryNode):\n",
    "    pass\n",
    "class MinusNode(BinaryNode):\n",
    "    pass\n",
    "class StarNode(BinaryNode):\n",
    "    pass\n",
    "class DivNode(BinaryNode):\n",
    "    pass"
   ]
  },
  {
   "cell_type": "markdown",
   "metadata": {},
   "source": [
    "## Gramática\n",
    "\n",
    "Modifiquemos la gramática de la clase anterior para incluir la nueva sintaxis del lenguaje. Procedamos en 2 pasos:\n",
    "1. Construyamos las producciones de forma que se garanticen las reglas sintácticas.\n",
    "2. Atributemos la gramática para construir el AST.\n",
    "\n",
    "> Recordemos que la gramática debe ser parseable. Actualmente el parser más poderoso que tenemos es el LR(1) así que usaremos ese. Consecuentemente, los atributos de la gramática solo deben computar atributos sintetizados."
   ]
  },
  {
   "cell_type": "code",
   "execution_count": 13,
   "metadata": {},
   "outputs": [
    {
     "name": "stdout",
     "output_type": "stream",
     "text": [
      "Non-Terminals:\n",
      "\t<program>, <class-list>, <def-class>, <feature-list>, <def-attr>, <def-func>, <param-list>, <param>, <expr-list>, <expr>, <arith>, <term>, <factor>, <atom>, <func-call>, <arg-list>\n",
      "Terminals:\n",
      "\tclass, let, def, print, ;, :, ,, ., (, ), {, }, =, +, -, *, /, id, int, new\n",
      "Productions:\n",
      "\t[<program> -> <class-list>, <class-list> -> <def-class> <class-list>, <class-list> -> <def-class>, <def-class> -> class id { <feature-list> }, <def-class> -> class id : id { <feature-list> }, <feature-list> -> <def-attr> <feature-list>, <feature-list> -> <def-func> <feature-list>, <feature-list> -> <def-attr>, <feature-list> -> <def-func>, <def-attr> -> id : id ;, <def-func> -> def id ( <param-list> ) : id { <expr> }, <param-list> -> <param>, <param-list> -> <param> , <param-list>, <param> -> id : id, <expr-list> -> <expr>, <expr-list> -> <expr> , <expr-list>, <expr> -> <arith>, <expr> -> let id : id = <expr>, <expr> -> id = <expr>, <expr> -> new id, <arith> -> <term>, <arith> -> <arith> + <term>, <arith> -> <arith> - <term>, <term> -> <factor>, <term> -> <term> * <factor>, <term> -> <term> / <factor>, <factor> -> <atom>, <factor> -> <factor> * <atom>, <factor> -> <factor> / <atom>, <atom> -> id, <atom> -> int, <atom> -> ( <expr> ), <func-call> -> id ( <arg-list> ), <func-call> -> <expr> . id ( <arg-list> ), <arg-list> -> <expr>, <arg-list> -> <expr> , <arg-list>]\n"
     ]
    }
   ],
   "source": [
    "from cmp.pycompiler import Grammar\n",
    "\n",
    "# grammar\n",
    "G = Grammar()\n",
    "\n",
    "\n",
    "# non-terminals\n",
    "program = G.NonTerminal('<program>', startSymbol=True)\n",
    "class_list, def_class = G.NonTerminals('<class-list> <def-class>')\n",
    "feature_list, def_attr, def_func = G.NonTerminals('<feature-list> <def-attr> <def-func>')\n",
    "param_list, param, expr_list = G.NonTerminals('<param-list> <param> <expr-list>')\n",
    "expr, arith, term, factor, atom = G.NonTerminals('<expr> <arith> <term> <factor> <atom>')\n",
    "func_call, arg_list  = G.NonTerminals('<func-call> <arg-list>')\n",
    "\n",
    "\n",
    "# terminals\n",
    "classx, let, defx, printx = G.Terminals('class let def print')\n",
    "semi, colon, comma, dot, opar, cpar, ocur, ccur = G.Terminals('; : , . ( ) { }')\n",
    "equal, plus, minus, star, div = G.Terminals('= + - * /')\n",
    "idx, num, new = G.Terminals('id int new')\n",
    "\n",
    "\n",
    "# productions\n",
    "program %= class_list, lambda h, s: ProgramNode(s[1])\n",
    "\n",
    "# <class-list>   ???\n",
    "class_list %= def_class + class_list, lambda h, s: [s[1]] + s[2]\n",
    "class_list %= def_class, lambda h, s: [s[1]]\n",
    "# <def-class>    ???\n",
    "def_class %= (\n",
    "    classx + idx + ocur + feature_list + ccur,\n",
    "    lambda h, s: ClassDeclarationNode(s[2], s[4]),\n",
    ")\n",
    "def_class %= (\n",
    "    classx + idx + colon + idx + ocur + feature_list + ccur,\n",
    "    lambda h, s: ClassDeclarationNode(s[2], s[6], s[4]),\n",
    ")\n",
    "# <feature-list> ???\n",
    "feature_list %= def_attr + feature_list, lambda h, s: [s[1]] + s[2]\n",
    "feature_list %= def_func + feature_list, lambda h, s: [s[1]] + s[2]\n",
    "feature_list %= def_attr, lambda h, s: [s[1]]\n",
    "feature_list %= def_func, lambda h, s: [s[1]]\n",
    "# <def-attr>     ???\n",
    "def_attr %= idx + colon + idx + semi, lambda h, s: AttrDeclarationNode(s[1], s[3])\n",
    "# <def-func>     ???\n",
    "def_func %= (\n",
    "    defx + idx + opar + param_list + cpar + colon + idx + ocur + expr + ccur,\n",
    "    lambda h, s: FuncDeclarationNode(s[2], s[4], s[7], s[9]),\n",
    ")\n",
    "\n",
    "param_list %= param, lambda h, s: [s[1]]\n",
    "param_list %= param + comma + param_list, lambda h, s: [s[1]] + s[3]\n",
    "\n",
    "# <param>        ???\n",
    "param %= idx + colon + idx, lambda h, s: VarDeclarationNode(s[1], s[3], None)\n",
    "# <expr-list>    ???\n",
    "expr_list %= expr, lambda h, s: [s[1]]\n",
    "expr_list %= expr + comma + expr_list, lambda h, s: [s[1]] + s[3]\n",
    "# <expr>         ???\n",
    "expr %= arith, lambda h, s: s[1]\n",
    "expr %= let + idx + colon + idx + equal + expr, lambda h, s: VarDeclarationNode(\n",
    "    s[2], s[4], s[6]\n",
    ")\n",
    "expr %= idx + equal + expr, lambda h, s: AssignNode(s[1], s[3])\n",
    "expr %= new + idx, lambda h, s: InstantiateNode(s[2])\n",
    "# <arith>        ???\n",
    "arith %= term, lambda h, s: s[1]\n",
    "arith %= arith + plus + term, lambda h, s: PlusNode(s[1], s[3])\n",
    "arith %= arith + minus + term, lambda h, s: MinusNode(s[1], s[3])\n",
    "# <term>         ???\n",
    "term %= factor, lambda h, s: s[1]\n",
    "term %= term + star + factor, lambda h, s: StarNode(s[1], s[3])\n",
    "term %= term + div + factor, lambda h, s: DivNode(s[1], s[3])\n",
    "# <factor>       ???\n",
    "factor %= atom, lambda h, s: s[1]\n",
    "factor %= factor + star + atom, lambda h, s: StarNode(s[1], s[3])\n",
    "factor %= factor + div + atom, lambda h, s: DivNode(s[1], s[3])\n",
    "# <atom>         ???\n",
    "atom %= idx, lambda h, s: VariableNode(s[1])\n",
    "atom %= num, lambda h, s: ConstantNumNode(s[1])\n",
    "atom %= opar + expr + cpar, lambda h, s: s[2]\n",
    "# <func-call>    ???\n",
    "func_call %= idx + opar + arg_list + cpar, lambda h, s: CallNode(None, s[1], s[3])\n",
    "func_call %= expr + dot + idx + opar + arg_list + cpar, lambda h, s: CallNode(\n",
    "    s[1], s[3], s[5]\n",
    ")\n",
    "\n",
    "arg_list %= expr, lambda h, s: [s[1]]\n",
    "arg_list %= expr + comma + arg_list, lambda h, s: [s[1]] + s[3]\n",
    "\n",
    "\n",
    "if __name__ == '__main__': print(G)"
   ]
  },
  {
   "cell_type": "markdown",
   "metadata": {},
   "source": [
    "## Probando la gramática\n",
    "\n",
    "Trabajaremos con el siguiente código de ejemplo:\n",
    "\n",
    "```csharp\n",
    "class A {\n",
    "    a : int ;\n",
    "    def suma ( a : int , b : int ) : int {\n",
    "        a + b ;\n",
    "    }\n",
    "    b : int ;\n",
    "}\n",
    "\n",
    "class B : A {\n",
    "    c : A ;\n",
    "    def f ( d : int , a : A ) : void {\n",
    "        let f : int = 8 ;\n",
    "        let c = new A ( ) . suma ( 5 , f ) ;\n",
    "        c ;\n",
    "    }\n",
    "}\n",
    "```\n",
    "\n",
    "Note que todos los tokens están separados por espacios. Esto nos permitirá usar un tokenizer muy simple."
   ]
  },
  {
   "cell_type": "code",
   "execution_count": 14,
   "metadata": {},
   "outputs": [],
   "source": [
    "text = '''\n",
    "class A {\n",
    "    a : int ;\n",
    "    def suma ( a : int , b : int ) : int {\n",
    "        a + b ;\n",
    "    }\n",
    "    b : int ;\n",
    "}\n",
    "\n",
    "class B : A {\n",
    "    c : A ;\n",
    "    def f ( d : int , a : A ) : void {\n",
    "        let f : int = 8 ;\n",
    "        let c = new A ( ) . suma ( 5 , f ) ;\n",
    "        c ;\n",
    "    }\n",
    "}\n",
    "'''"
   ]
  },
  {
   "cell_type": "markdown",
   "metadata": {},
   "source": [
    "### Tokenizando\n",
    "\n",
    "Utilizaremos la implementación de tokenizer provista en `cmp.utils`. Esta implementación asume que los lexemas se encuentran separados por `whitespaces`. Luego, forma los tokens a partir de seleccionar desde `fixed_tokens` los tokens con lexema fijo, y obtiene los tokens de lexema variable a partir la implementación del método `tokenize_text` a decorar."
   ]
  },
  {
   "cell_type": "code",
   "execution_count": 15,
   "metadata": {},
   "outputs": [
    {
     "name": "stdout",
     "output_type": "stream",
     "text": [
      "class id {\n",
      "    id : id ;\n",
      "    def id ( id : id , id : id ) : id {\n",
      "        id + id ;\n",
      "    }\n",
      "    id : id ;\n",
      "}\n",
      "class id : id {\n",
      "    id : id ;\n",
      "    def id ( id : id , id : id ) : id {\n",
      "        let id : id = int ;\n",
      "        let id = new id ( ) . id ( int , id ) ;\n",
      "        id ;\n",
      "    }\n",
      "}\n",
      "$\n"
     ]
    }
   ],
   "source": [
    "from cmp.utils import Token, tokenizer\n",
    "\n",
    "fixed_tokens = { t.Name: Token(t.Name, t) for t in G.terminals if t not in { idx, num }}\n",
    "\n",
    "@tokenizer(G, fixed_tokens)\n",
    "def tokenize_text(token):\n",
    "    lex = token.lex\n",
    "    try:\n",
    "        float(lex)\n",
    "        return token.transform_to(num)\n",
    "    except ValueError:\n",
    "        return token.transform_to(idx)\n",
    "\n",
    "if __name__ == '__main__': tokens = tokenize_text(text)\n",
    "\n",
    "def pprint_tokens(tokens):\n",
    "    indent = 0\n",
    "    pending = []\n",
    "    for token in tokens:\n",
    "        pending.append(token)\n",
    "        if token.token_type in { ocur, ccur, semi }:\n",
    "            if token.token_type == ccur:\n",
    "                indent -= 1\n",
    "            print('    '*indent + ' '.join(str(t.token_type) for t in pending))\n",
    "            pending.clear()\n",
    "            if token.token_type == ocur:\n",
    "                indent += 1\n",
    "    print(' '.join([str(t.token_type) for t in pending]))\n",
    "\n",
    "if __name__ == '__main__':  pprint_tokens(tokens)"
   ]
  },
  {
   "cell_type": "markdown",
   "metadata": {},
   "source": [
    "### Parseando\n",
    "\n",
    "Comprobemos que la gramática quedó LR(1). De ser así no deberían haber conflictos shift-reduce ni reduce-reduce al construir el parser."
   ]
  },
  {
   "cell_type": "code",
   "execution_count": 16,
   "metadata": {},
   "outputs": [
    {
     "ename": "AssertionError",
     "evalue": "Shift-Reduce or Reduce-Reduce conflict!!!",
     "output_type": "error",
     "traceback": [
      "\u001b[1;31m---------------------------------------------------------------------------\u001b[0m",
      "\u001b[1;31mAssertionError\u001b[0m                            Traceback (most recent call last)",
      "Cell \u001b[1;32mIn[16], line 3\u001b[0m\n\u001b[0;32m      1\u001b[0m \u001b[38;5;28;01mfrom\u001b[39;00m \u001b[38;5;21;01mcmp\u001b[39;00m\u001b[38;5;21;01m.\u001b[39;00m\u001b[38;5;21;01mtools\u001b[39;00m\u001b[38;5;21;01m.\u001b[39;00m\u001b[38;5;21;01mparsing\u001b[39;00m \u001b[38;5;28;01mimport\u001b[39;00m LR1Parser\n\u001b[1;32m----> 3\u001b[0m \u001b[38;5;28;01mif\u001b[39;00m \u001b[38;5;18m__name__\u001b[39m \u001b[38;5;241m==\u001b[39m \u001b[38;5;124m'\u001b[39m\u001b[38;5;124m__main__\u001b[39m\u001b[38;5;124m'\u001b[39m: parser \u001b[38;5;241m=\u001b[39m LR1Parser(G)\n",
      "File \u001b[1;32m<string>:10\u001b[0m, in \u001b[0;36m__init__\u001b[1;34m(self, G, verbose)\u001b[0m\n",
      "File \u001b[1;32m<string>:84\u001b[0m, in \u001b[0;36m_build_parsing_table\u001b[1;34m(W)\u001b[0m\n",
      "File \u001b[1;32m<string>:94\u001b[0m, in \u001b[0;36m_register\u001b[1;34m(F, K, N)\u001b[0m\n",
      "\u001b[1;31mAssertionError\u001b[0m: Shift-Reduce or Reduce-Reduce conflict!!!"
     ]
    }
   ],
   "source": [
    "from cmp.tools.parsing import LR1Parser\n",
    "\n",
    "if __name__ == '__main__': parser = LR1Parser(G)"
   ]
  },
  {
   "cell_type": "markdown",
   "metadata": {},
   "source": [
    "Además, la gramática debe haber atrapado la sintaxis del lenguaje. De ser así, el programa anterior debería poder parsearse sin problema. Comprobémoslo."
   ]
  },
  {
   "cell_type": "code",
   "execution_count": null,
   "metadata": {},
   "outputs": [
    {
     "name": "stdout",
     "output_type": "stream",
     "text": [
      "(0, 'class')\n",
      "Error. Aborting...\n"
     ]
    },
    {
     "ename": "TypeError",
     "evalue": "cannot unpack non-iterable NoneType object",
     "output_type": "error",
     "traceback": [
      "\u001b[1;31m---------------------------------------------------------------------------\u001b[0m",
      "\u001b[1;31mTypeError\u001b[0m                                 Traceback (most recent call last)",
      "Cell \u001b[1;32mIn[11], line 2\u001b[0m\n\u001b[0;32m      1\u001b[0m \u001b[38;5;28;01mif\u001b[39;00m \u001b[38;5;18m__name__\u001b[39m \u001b[38;5;241m==\u001b[39m \u001b[38;5;124m'\u001b[39m\u001b[38;5;124m__main__\u001b[39m\u001b[38;5;124m'\u001b[39m:\n\u001b[1;32m----> 2\u001b[0m     parse, operations \u001b[38;5;241m=\u001b[39m parser([t\u001b[38;5;241m.\u001b[39mtoken_type \u001b[38;5;28;01mfor\u001b[39;00m t \u001b[38;5;129;01min\u001b[39;00m tokens], get_shift_reduce\u001b[38;5;241m=\u001b[39m\u001b[38;5;28;01mTrue\u001b[39;00m)\n\u001b[0;32m      3\u001b[0m     \u001b[38;5;28mprint\u001b[39m(\u001b[38;5;124m'\u001b[39m\u001b[38;5;130;01m\\n\u001b[39;00m\u001b[38;5;124m'\u001b[39m\u001b[38;5;241m.\u001b[39mjoin(\u001b[38;5;28mrepr\u001b[39m(x) \u001b[38;5;28;01mfor\u001b[39;00m x \u001b[38;5;129;01min\u001b[39;00m parse))\n",
      "\u001b[1;31mTypeError\u001b[0m: cannot unpack non-iterable NoneType object"
     ]
    }
   ],
   "source": [
    "if __name__ == '__main__':\n",
    "    parse, operations = parser([t.token_type for t in tokens], get_shift_reduce=True)\n",
    "    print('\\n'.join(repr(x) for x in parse))"
   ]
  },
  {
   "cell_type": "markdown",
   "metadata": {},
   "source": [
    "### Construcción del AST\n",
    "\n",
    "Llegados a este punto solo queda evaluar las reglas para obtener el AST. Si las reglas fueron correctamente implementadas, no deberíamos tener problemas con lo siguiente."
   ]
  },
  {
   "cell_type": "code",
   "execution_count": null,
   "metadata": {},
   "outputs": [],
   "source": [
    "from cmp.evaluation import evaluate_reverse_parse\n",
    "\n",
    "if __name__ == '__main__':\n",
    "    ast = evaluate_reverse_parse(parse, operations, tokens)\n",
    "    print(ast)"
   ]
  },
  {
   "cell_type": "markdown",
   "metadata": {},
   "source": [
    "### Visitor para visualizar\n",
    "\n",
    "Construyamos un `visitor` para visualizar el AST."
   ]
  },
  {
   "cell_type": "code",
   "execution_count": null,
   "metadata": {},
   "outputs": [],
   "source": [
    "import cmp.visitor as visitor\n",
    "\n",
    "class FormatVisitor(object):\n",
    "    @visitor.on('node')\n",
    "    def visit(self, node, tabs):\n",
    "        pass\n",
    "    \n",
    "    @visitor.when(ProgramNode)\n",
    "    def visit(self, node, tabs=0):\n",
    "        ans = '\\t' * tabs + f'\\\\__ProgramNode [<class> ... <class>]'\n",
    "        statements = '\\n'.join(self.visit(child, tabs + 1) for child in node.declarations)\n",
    "        return f'{ans}\\n{statements}'\n",
    "    \n",
    "    @visitor.when(ClassDeclarationNode)\n",
    "    def visit(self, node, tabs=0):\n",
    "        parent = '' if node.parent is None else f\": {node.parent}\"\n",
    "        ans = '\\t' * tabs + f'\\\\__ClassDeclarationNode: class {node.id} {parent} {{ <feature> ... <feature> }}'\n",
    "        features = '\\n'.join(self.visit(child, tabs + 1) for child in node.features)\n",
    "        return f'{ans}\\n{features}'\n",
    "    \n",
    "    @visitor.when(AttrDeclarationNode)\n",
    "    def visit(self, node, tabs=0):\n",
    "        ans = '\\t' * tabs + f'\\\\__AttrDeclarationNode: {node.id} : {node.type}'\n",
    "        return f'{ans}'\n",
    "    \n",
    "    @visitor.when(VarDeclarationNode)\n",
    "    def visit(self, node, tabs=0):\n",
    "        ans = '\\t' * tabs + f'\\\\__VarDeclarationNode: let {node.id} : {node.type} = <expr>'\n",
    "        expr = self.visit(node.expr, tabs + 1)\n",
    "        return f'{ans}\\n{expr}'\n",
    "    \n",
    "    @visitor.when(AssignNode)\n",
    "    def visit(self, node, tabs=0):\n",
    "        ans = '\\t' * tabs + f'\\\\__AssignNode: let {node.id} = <expr>'\n",
    "        expr = self.visit(node.expr, tabs + 1)\n",
    "        return f'{ans}\\n{expr}'\n",
    "    \n",
    "    @visitor.when(FuncDeclarationNode)\n",
    "    def visit(self, node, tabs=0):\n",
    "        params = ', '.join(':'.join(param) for param in node.params)\n",
    "        ans = '\\t' * tabs + f'\\\\__FuncDeclarationNode: def {node.id}({params}) : {node.type} -> <body>'\n",
    "        body = '\\n'.join(self.visit(child, tabs + 1) for child in node.body)\n",
    "        return f'{ans}\\n{body}'\n",
    "\n",
    "    @visitor.when(BinaryNode)\n",
    "    def visit(self, node, tabs=0):\n",
    "        ans = '\\t' * tabs + f'\\\\__<expr> {node.__class__.__name__} <expr>'\n",
    "        left = self.visit(node.left, tabs + 1)\n",
    "        right = self.visit(node.right, tabs + 1)\n",
    "        return f'{ans}\\n{left}\\n{right}'\n",
    "\n",
    "    @visitor.when(AtomicNode)\n",
    "    def visit(self, node, tabs=0):\n",
    "        return '\\t' * tabs + f'\\\\__ {node.__class__.__name__}: {node.lex}'\n",
    "    \n",
    "    @visitor.when(CallNode)\n",
    "    def visit(self, node, tabs=0):\n",
    "        obj = self.visit(node.obj, tabs + 1)\n",
    "        ans = '\\t' * tabs + f'\\\\__CallNode: <obj>.{node.id}(<expr>, ..., <expr>)'\n",
    "        args = '\\n'.join(self.visit(arg, tabs + 1) for arg in node.args)\n",
    "        return f'{ans}\\n{obj}\\n{args}'\n",
    "    \n",
    "    @visitor.when(InstantiateNode)\n",
    "    def visit(self, node, tabs=0):\n",
    "        return '\\t' * tabs + f'\\\\__ InstantiateNode: new {node.lex}()'"
   ]
  },
  {
   "cell_type": "markdown",
   "metadata": {},
   "source": [
    "Independientemente de la gramática el AST debería quedar igual. Así que la siguiente verificación no debería tener problema."
   ]
  },
  {
   "cell_type": "code",
   "execution_count": null,
   "metadata": {},
   "outputs": [],
   "source": [
    "if __name__ == '__main__':\n",
    "    formatter = FormatVisitor()\n",
    "    tree = formatter.visit(ast)\n",
    "    print(tree)\n",
    "\n",
    "    assert tree == '''\\__ProgramNode [<class> ... <class>]\n",
    "\t\\__ClassDeclarationNode: class A  { <feature> ... <feature> }\n",
    "\t\t\\__AttrDeclarationNode: a : int\n",
    "\t\t\\__FuncDeclarationNode: def suma(a:int, b:int) : int -> <body>\n",
    "\t\t\t\\__<expr> PlusNode <expr>\n",
    "\t\t\t\t\\__ VariableNode: a\n",
    "\t\t\t\t\\__ VariableNode: b\n",
    "\t\t\\__AttrDeclarationNode: b : int\n",
    "\t\\__ClassDeclarationNode: class B : A { <feature> ... <feature> }\n",
    "\t\t\\__AttrDeclarationNode: c : A\n",
    "\t\t\\__FuncDeclarationNode: def f(d:int, a:A) : void -> <body>\n",
    "\t\t\t\\__VarDeclarationNode: let f : int = <expr>\n",
    "\t\t\t\t\\__ ConstantNumNode: 8\n",
    "\t\t\t\\__AssignNode: let c = <expr>\n",
    "\t\t\t\t\\__CallNode: <obj>.suma(<expr>, ..., <expr>)\n",
    "\t\t\t\t\t\\__ InstantiateNode: new A()\n",
    "\t\t\t\t\t\\__ ConstantNumNode: 5\n",
    "\t\t\t\t\t\\__ VariableNode: f\n",
    "\t\t\t\\__ VariableNode: c'''"
   ]
  },
  {
   "cell_type": "markdown",
   "metadata": {},
   "source": [
    "## Propuestas\n",
    "\n",
    "- Implemente una clase contexto que le permita consultar la información de las clases, métodos y variables (especialmente los tipos).\n",
    "- Implemente un visitor que recorre el AST recolectando los tipos.\n",
    "- Implemente un visitor que recorre el AST recolectando los métodos y atributos."
   ]
  }
 ],
 "metadata": {
  "kernelspec": {
   "display_name": "Python 3.9.7 64-bit",
   "language": "python",
   "name": "python3"
  },
  "language_info": {
   "codemirror_mode": {
    "name": "ipython",
    "version": 3
   },
   "file_extension": ".py",
   "mimetype": "text/x-python",
   "name": "python",
   "nbconvert_exporter": "python",
   "pygments_lexer": "ipython3",
   "version": "3.10.6"
  },
  "vscode": {
   "interpreter": {
    "hash": "c347c8f9a7ef94e4c9e03b4513be7835ed18f45b99a2a817fb579f408b867b16"
   }
  }
 },
 "nbformat": 4,
 "nbformat_minor": 2
}
