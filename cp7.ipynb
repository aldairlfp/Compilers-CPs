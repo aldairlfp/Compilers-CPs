{
 "cells": [
  {
   "cell_type": "markdown",
   "metadata": {},
   "source": [
    "# Clase Práctica #7 (Compilación)\n",
    "\n",
    "En esta clase estaremos implementando algunas de las operaciones más importantes entre autómatas. Específicamente implementaremos **unión**, **concatenación** y **clausura**, las cuales juegan un papel fundamental en la construcción del intérprete de expresiones regulares en el que trabajaremos la semana próxima."
   ]
  },
  {
   "cell_type": "code",
   "execution_count": 6,
   "metadata": {},
   "outputs": [],
   "source": [
    "from cmp.tools.automata import NFA, DFA, nfa_to_dfa"
   ]
  },
  {
   "cell_type": "markdown",
   "metadata": {},
   "source": [
    "## Operaciones entre autómatas\n",
    "\n",
    "Trabajemos con el siguiente autómata de ejemplo. El lenguaje que reconoce dicho autómata es `(a|b)*b`."
   ]
  },
  {
   "cell_type": "code",
   "execution_count": 7,
   "metadata": {},
   "outputs": [
    {
     "data": {
      "text/plain": [
       "<cmp.tools.automata.DFA at 0x16857cb81c0>"
      ]
     },
     "execution_count": 7,
     "metadata": {},
     "output_type": "execute_result"
    }
   ],
   "source": [
    "automaton = DFA(states=2, finals=[1], transitions={\n",
    "    (0,'a'):  0,\n",
    "    (0,'b'):  1,\n",
    "    (1,'a'):  0,\n",
    "    (1,'b'):  1,\n",
    "})\n",
    "automaton"
   ]
  },
  {
   "cell_type": "markdown",
   "metadata": {},
   "source": [
    "### Unión de autómatas\n",
    "\n",
    "Dados 2 autómatas finitos `a1` y `a2` se define el autómata **unión** entre ellos como el autómata que reconoce $L(a_1) \\cup L(a_2)$. Dicho de otra forma, reconoce el lenguaje $L(a_1 \\cup a_2) = \\{w $| $w \\in L(a_1) \\lor w \\in L(a_2)\\}$."
   ]
  },
  {
   "cell_type": "code",
   "execution_count": 8,
   "metadata": {
    "jupyter": {
     "source_hidden": true
    }
   },
   "outputs": [],
   "source": [
    "def automata_union(a1, a2):\n",
    "    transitions = {}\n",
    "    \n",
    "    start = 0\n",
    "    d1 = 1\n",
    "    d2 = a1.states + d1\n",
    "    final = a2.states + d2\n",
    "    \n",
    "    for (origin, symbol), destinations in a1.map.items():\n",
    "        ## Relocate a1 transitions ...\n",
    "        transitions[(origin + d1, symbol)] = { destination + d1 for destination in destinations }\n",
    "\n",
    "    for (origin, symbol), destinations in a2.map.items():\n",
    "        ## Relocate a2 transitions ...\n",
    "        transitions[(origin + d2, symbol)] = { destination + d2 for destination in destinations }\n",
    "    \n",
    "    ## Add transitions from start state ...\n",
    "    transitions[(start, '')] = { d1, d2 }\n",
    "    \n",
    "    ## Add transitions to final state ...\n",
    "    transitions[(final - 1, '')] = { final }\n",
    "            \n",
    "    states = a1.states + a2.states + 2\n",
    "    finals = { final }\n",
    "    \n",
    "    return NFA(states, finals, transitions, start)"
   ]
  },
  {
   "cell_type": "markdown",
   "metadata": {},
   "source": [
    "Comprobemos que `automata_union(automaton, automaton)` reconoce el propio lenguaje `(a|b)*b`."
   ]
  },
  {
   "cell_type": "code",
   "execution_count": 9,
   "metadata": {},
   "outputs": [
    {
     "data": {
      "text/plain": [
       "<cmp.tools.automata.NFA at 0x1685923a770>"
      ]
     },
     "metadata": {},
     "output_type": "display_data"
    }
   ],
   "source": [
    "union = automata_union(automaton, automaton)\n",
    "display(union)\n",
    "recognize = nfa_to_dfa(union).recognize\n",
    "\n",
    "assert union.states == 2 * automaton.states + 2\n",
    "\n",
    "assert recognize('b')\n",
    "assert recognize('abbb')\n",
    "assert recognize('abaaababab')\n",
    "\n",
    "assert not recognize('')\n",
    "assert not recognize('a')\n",
    "assert not recognize('abbbbaa')"
   ]
  },
  {
   "cell_type": "markdown",
   "metadata": {},
   "source": [
    "### Concatenación de autómatas"
   ]
  },
  {
   "cell_type": "markdown",
   "metadata": {},
   "source": [
    "Dados 2 autómatas finitos `a1` y `a2` se define el autómata **concatenación** entre ellos como el autómata que reconoce $L(a_1) L(a_2)$. Dicho de otra forma, reconoce el lenguaje $L(a_1 a_2) = \\{vw $| $v \\in L(a_1) \\land w \\in L(a_2)\\}$."
   ]
  },
  {
   "cell_type": "code",
   "execution_count": 10,
   "metadata": {
    "jupyter": {
     "source_hidden": true
    }
   },
   "outputs": [],
   "source": [
    "def automata_concatenation(a1, a2):\n",
    "    transitions = {}\n",
    "    \n",
    "    start = 0\n",
    "    d1 = 0\n",
    "    d2 = a1.states + d1\n",
    "    final = a2.states + d2\n",
    "    \n",
    "    for (origin, symbol), destinations in a1.map.items():\n",
    "        ## Relocate a1 transitions ...\n",
    "        transitions[(origin + d1, symbol)] = { destination + d1 for destination in destinations }\n",
    "\n",
    "    for (origin, symbol), destinations in a2.map.items():\n",
    "        ## Relocate a2 transitions ...\n",
    "        transitions[(origin + d2, symbol)] = { destination + d2 for destination in destinations }\n",
    "    \n",
    "    ## Add transitions to final state ...\n",
    "    for destination in a1.finals:\n",
    "        transitions[(destination + d1, '')] = { d2 }\n",
    "            \n",
    "    states = a1.states + a2.states + 1\n",
    "    finals = { final - 1}\n",
    "    \n",
    "    return NFA(states, finals, transitions, start)"
   ]
  },
  {
   "cell_type": "markdown",
   "metadata": {},
   "source": [
    "Comprobemos que `automata_concatenation(automaton, automaton)` reconoce el lenguaje `(a|b)*b(a|b)*b`."
   ]
  },
  {
   "cell_type": "code",
   "execution_count": 11,
   "metadata": {},
   "outputs": [
    {
     "data": {
      "text/plain": [
       "<cmp.tools.automata.NFA at 0x168592a9120>"
      ]
     },
     "metadata": {},
     "output_type": "display_data"
    }
   ],
   "source": [
    "concat = automata_concatenation(automaton, automaton)\n",
    "display(concat)\n",
    "recognize = nfa_to_dfa(concat).recognize\n",
    "\n",
    "assert concat.states == 2 * automaton.states + 1\n",
    "\n",
    "assert recognize('bb')\n",
    "assert recognize('abbb')\n",
    "assert recognize('abaaababab')\n",
    "\n",
    "assert not recognize('')\n",
    "assert not recognize('a')\n",
    "assert not recognize('b')\n",
    "assert not recognize('ab')\n",
    "assert not recognize('aaaab')\n",
    "assert not recognize('abbbbaa')"
   ]
  },
  {
   "cell_type": "markdown",
   "metadata": {},
   "source": [
    "### Clausura de autómatas\n",
    "\n",
    "Dado un autómata finito `a1` se define el autómata **clausura** de `a1` como el autómata que reconoce $L(a_1)^*$. Dicho de otra forma, reconoce el lenguaje $L(a_1^*) = L(a_1)^n$, con $n \\geq 0$."
   ]
  },
  {
   "cell_type": "code",
   "execution_count": 12,
   "metadata": {
    "jupyter": {
     "source_hidden": true
    }
   },
   "outputs": [],
   "source": [
    "def automata_closure(a1):\n",
    "    transitions = {}\n",
    "    \n",
    "    start = 0\n",
    "    d1 = 0\n",
    "    final = a1.states + d1\n",
    "    \n",
    "    for (origin, symbol), destinations in a1.map.items():\n",
    "        ## Relocate automaton transitions ...\n",
    "        transitions[(origin + d1, symbol)] = { destination + d1 for destination in destinations }\n",
    "        \n",
    "    finals = [origin + d1 for (origin, symbol), destinations in a1.map.items() if not origin in a1.finals] \n",
    "            \n",
    "    states = a1.states\n",
    "    finals = set(finals)\n",
    "\n",
    "    return NFA(states, finals, transitions, start)"
   ]
  },
  {
   "cell_type": "markdown",
   "metadata": {},
   "source": [
    "Comprobemos que `automata_closure(automaton)` reconoce el lenguaje `((a|b)*b)*`."
   ]
  },
  {
   "cell_type": "code",
   "execution_count": 13,
   "metadata": {},
   "outputs": [
    {
     "data": {
      "text/plain": [
       "<cmp.tools.automata.NFA at 0x168592a8e20>"
      ]
     },
     "metadata": {},
     "output_type": "display_data"
    },
    {
     "ename": "AssertionError",
     "evalue": "",
     "output_type": "error",
     "traceback": [
      "\u001b[1;31m---------------------------------------------------------------------------\u001b[0m",
      "\u001b[1;31mAssertionError\u001b[0m                            Traceback (most recent call last)",
      "Cell \u001b[1;32mIn[13], line 8\u001b[0m\n\u001b[0;32m      5\u001b[0m \u001b[38;5;28;01massert\u001b[39;00m closure\u001b[38;5;241m.\u001b[39mstates \u001b[38;5;241m==\u001b[39m automaton\u001b[38;5;241m.\u001b[39mstates\n\u001b[0;32m      7\u001b[0m \u001b[38;5;28;01massert\u001b[39;00m recognize(\u001b[38;5;124m'\u001b[39m\u001b[38;5;124m'\u001b[39m)\n\u001b[1;32m----> 8\u001b[0m \u001b[38;5;28;01massert\u001b[39;00m recognize(\u001b[38;5;124m'\u001b[39m\u001b[38;5;124mb\u001b[39m\u001b[38;5;124m'\u001b[39m)\n\u001b[0;32m      9\u001b[0m \u001b[38;5;28;01massert\u001b[39;00m recognize(\u001b[38;5;124m'\u001b[39m\u001b[38;5;124mab\u001b[39m\u001b[38;5;124m'\u001b[39m)\n\u001b[0;32m     10\u001b[0m \u001b[38;5;28;01massert\u001b[39;00m recognize(\u001b[38;5;124m'\u001b[39m\u001b[38;5;124mbb\u001b[39m\u001b[38;5;124m'\u001b[39m)\n",
      "\u001b[1;31mAssertionError\u001b[0m: "
     ]
    }
   ],
   "source": [
    "closure = automata_closure(automaton)\n",
    "display(closure)\n",
    "recognize = nfa_to_dfa(closure).recognize\n",
    "\n",
    "assert closure.states == automaton.states\n",
    "\n",
    "assert recognize('')\n",
    "assert recognize('b')\n",
    "assert recognize('ab')\n",
    "assert recognize('bb')\n",
    "assert recognize('abbb')\n",
    "assert recognize('abaaababab')\n",
    "\n",
    "assert not recognize('a')\n",
    "assert not recognize('abbbbaa')"
   ]
  },
  {
   "cell_type": "markdown",
   "metadata": {},
   "source": [
    "### Minimización de autómatas\n",
    "\n",
    "Hasta ahora hemos estado ignorando la cantidad de estados del autómata. Sin embargo, resulta conveniente obtener el DFA con menor cantidad de estados. Se puede demostrar que siempre hay un único DFA con la mínima cantidad de estados para cualquier lenguaje regular. Dicho autómata puede ser construido a partir de cualquier otro DFA del lenguaje como resultado de agrupar conjuntos de estados equivalentes.\n",
    "\n",
    "El algoritmo de minimización particiona los estados del DFA en grupos de estados que no puedan ser diferenciados _(comenzando en ellos, cualquier cadena termina siendo igualmente aceptada o no)_. Cada grupo de estados es mezclado posteriormente en un único estado del DFA resultante. A medida que avanza el algoritmo, los estados en el mismo grupo representan estados que aún no se han podido diferenciar, mientras que dos estados cualesquiera de distintos grupos ya fueron diferenciados. Una vez que la partición no pueda ser refinada más, el algoritmo se detiene pues encontró el DFA con menor cantidad de estados.\n",
    "\n",
    "El algoritmo funciona de la siguiente forma:\n",
    "1. Comenzar con una partición inicial $\\Pi$ en dos grupos, $F$ y $Q - F$, con los estados finales y no finales respectivamente.\n",
    "2. Inicializar $\\Pi_{new} = \\Pi$\n",
    "3. Por cada grupo $G$ en la partición $\\Pi$:\n",
    "    1. Particionar $G$ en subgrupos de forma tal que: dos estados $s$ y $t$ están en el mismo grupo **si y solo si** para todo símbolo $a$ del vocabulario, los estados $s$ y $t$ tienen transición con $a$ hacia estados en el mismo grupo de $\\Pi$.\n",
    "    2. Reemplazar $G$ in $\\Pi_{new}$ por los subgrupos formados.\n",
    "4. Si $\\Pi_{new} = \\Pi$, hacer $\\Pi_{final} = \\Pi$ y continuar al paso `5`. En otro caso, regresar al paso `2` con $\\Pi_{new}$ en el lugar de $\\Pi$.\n",
    "5. Seleccionar un estado de cada grupo de $\\Pi_{final}$ como el _representante_ de ese grupo. Los representantes serán los estados del DFA con la mínima cantidad de estados. El resto de los componentes se construyen de la siguiente forma:\n",
    "    1. El estado inicial es el representante del grupo que contiene al estado inicial del autómata original.\n",
    "    2. Los estados finales son los representantes de los grupos que contienen uno de los estados finales originales. _Note que cada grupo contiene solamente estados finales o no finales, ya que se parte de una partición que los separa y nunca se vuelven a unir_.\n",
    "    3. Las transiciones se obtienen entre los representantes de cada grupo. Sea $s$ el representante de algún grupo de $G$, y sea, $(s, a) \\to t$, la transición del autómata original desde $s$ con un símbolo $a$. Sea $r$ el representante de $t$ en su grupo $H$. Entonces en el autómata resultante estará la transición: $(s, a) \\to r$."
   ]
  },
  {
   "cell_type": "markdown",
   "metadata": {},
   "source": [
    "Utilizaremos la implementación de la estructura de datos _conjuntos disjuntos_ de `cmp.utils`. A continuación se ilustra el uso de las funcionalidades más relevantes de la mismas."
   ]
  },
  {
   "cell_type": "code",
   "execution_count": 23,
   "metadata": {},
   "outputs": [
    {
     "name": "stdout",
     "output_type": "stream",
     "text": [
      "> Inicializando conjuntos disjuntos:\n",
      " [[8], [9], [4], [1], [0], [5], [2], [6], [3], [7]]\n",
      "> Mezclando conjuntos 5 y 9:\n",
      " [[8], [4], [1], [0], [5, 9], [2], [6], [3], [7]]\n",
      "> Mezclando conjuntos 8, 0 y 2:\n",
      " [[0, 2, 8], [4], [1], [5, 9], [6], [3], [7]]\n",
      "> Mezclando conjuntos 2 y 9:\n",
      " [[0, 2, 5, 8, 9], [4], [1], [6], [3], [7]]\n",
      "> Representantes:\n",
      " {8, 4, 1, 6, 3, 7}\n",
      "> Grupos:\n",
      " [[0, 2, 5, 8, 9], [4], [1], [6], [3], [7]]\n",
      "> Nodos:\n",
      " {0: 0, 1: 1, 2: 2, 3: 3, 4: 4, 5: 5, 6: 6, 7: 7, 8: 8, 9: 9}\n",
      "> Conjunto 0:\n",
      " 0 ---> <class 'cmp.utils.DisjointNode'>\n",
      "> Conjunto 0 [valor]:\n",
      " 0 ---> <class 'int'>\n",
      "> Conjunto 0 [representante]:\n",
      " 8 ---> <class 'cmp.utils.DisjointNode'>\n"
     ]
    }
   ],
   "source": [
    "from cmp.utils import DisjointSet\n",
    "\n",
    "dset = DisjointSet(*range(10))\n",
    "print('> Inicializando conjuntos disjuntos:\\n', dset)\n",
    "\n",
    "dset.merge([5,9])\n",
    "print('> Mezclando conjuntos 5 y 9:\\n', dset)\n",
    "\n",
    "dset.merge([8,0,2])\n",
    "print('> Mezclando conjuntos 8, 0 y 2:\\n', dset)\n",
    "\n",
    "dset.merge([2,9])\n",
    "print('> Mezclando conjuntos 2 y 9:\\n', dset)\n",
    "\n",
    "print('> Representantes:\\n', dset.representatives)\n",
    "print('> Grupos:\\n', dset.groups)\n",
    "print('> Nodos:\\n', dset.nodes)\n",
    "print('> Conjunto 0:\\n', dset[0], '--->', type(dset[0]))\n",
    "print('> Conjunto 0 [valor]:\\n', dset[0].value, '--->' , type(dset[0].value))\n",
    "print('> Conjunto 0 [representante]:\\n', dset[0].representative, '--->' , type(dset[0].representative))"
   ]
  },
  {
   "cell_type": "markdown",
   "metadata": {},
   "source": [
    "Trabajaremos sobre el siguiente autómamata que reconoce el lenguaje `(a|b)*abb`. Note que los estados `0` y `2` pueden ser mezclados."
   ]
  },
  {
   "cell_type": "code",
   "execution_count": 22,
   "metadata": {},
   "outputs": [
    {
     "data": {
      "text/plain": [
       "<cmp.tools.automata.DFA at 0x16859b39d50>"
      ]
     },
     "execution_count": 22,
     "metadata": {},
     "output_type": "execute_result"
    }
   ],
   "source": [
    "automaton = DFA(states=5, finals=[4], transitions={\n",
    "    (0,'a'): 1,\n",
    "    (0,'b'): 2,\n",
    "    (1,'a'): 1,\n",
    "    (1,'b'): 3,\n",
    "    (2,'a'): 1,\n",
    "    (2,'b'): 2,\n",
    "    (3,'a'): 1,\n",
    "    (3,'b'): 4,\n",
    "    (4,'a'): 1,\n",
    "    (4,'b'): 2,\n",
    "})\n",
    "automaton"
   ]
  },
  {
   "cell_type": "markdown",
   "metadata": {},
   "source": [
    "Implementemos los métodos siguientes, donde:\n",
    "\n",
    "- `distinguish_states(group, automaton, partition)`: devuelve los subgrupos que se obtienen de diferenciar los estados de `group` según la partición `partition`.\n",
    "> `int[][]`: Lista de las listas de estados en las que se dividió `group`.\n",
    "\n",
    "- `state_minimization(automaton)`: devuelve una partición de los estados de `automaton`.\n",
    "> `DisjointSet`: Conjunto disjunto sobre los estados de `automaton`.\n",
    "\n",
    "- `automata_minimization(automaton)`: devuelve el DFA con la mínima cantidad de estados que reconoce el mismo lenguaje que el DFA `automaton`."
   ]
  },
  {
   "cell_type": "code",
   "execution_count": 20,
   "metadata": {
    "jupyter": {
     "source_hidden": true
    }
   },
   "outputs": [],
   "source": [
    "def distinguish_states(group, automaton, partition):\n",
    "    split = {}\n",
    "    vocabulary = tuple(automaton.vocabulary)\n",
    "    \n",
    "    marks = [False] * len(group)\n",
    "\n",
    "    for i, member in enumerate(group):\n",
    "        if marks[i]:\n",
    "            continue\n",
    "        split[member.value] = [member.value]\n",
    "        marks[i] = True\n",
    "        for j, other in enumerate(group):\n",
    "            if member != other:\n",
    "                t1 = automaton.transitions[member.value]\n",
    "                t2 = automaton.transitions[other.value]\n",
    "                all_equal = True\n",
    "                for symbol in vocabulary:\n",
    "                    ## Compare transitions ...\n",
    "                    if partition[t1[symbol][0]] != partition[t2[symbol][0]]:\n",
    "                        all_equal = False\n",
    "                        break\n",
    "                if all_equal:\n",
    "                    split[member.value].append(other.value)\n",
    "                    marks[j] = True\n",
    "        \n",
    "    if len(split) == 0:\n",
    "        return [element.value for element in group]\n",
    "\n",
    "    return [ group for group in split.values()]\n",
    "            \n",
    "def state_minimization(automaton):\n",
    "    partition = DisjointSet(*range(automaton.states))\n",
    "    \n",
    "    ## partition = { NON-FINALS | FINALS }\n",
    "    partition.merge(automaton.finals)\n",
    "    partition.merge([state for state in range(automaton.states) if state not in automaton.finals])\n",
    "    \n",
    "    while True:\n",
    "        new_partition = DisjointSet(*range(automaton.states))\n",
    "        \n",
    "        ## Split each group if needed (use distinguish_states(group, automaton, partition))\n",
    "        for group in partition.groups:\n",
    "            new_groups = distinguish_states(group, automaton, partition)\n",
    "            for new_group in new_groups:\n",
    "                new_partition.merge(new_group)\n",
    "\n",
    "        if len(new_partition) == len(partition):\n",
    "            break\n",
    "\n",
    "        partition = new_partition\n",
    "        \n",
    "    return partition\n",
    "\n",
    "def automata_minimization(automaton):\n",
    "    partition = state_minimization(automaton)\n",
    "    \n",
    "    states = [s for s in partition.representatives]\n",
    "    \n",
    "    transitions = {}\n",
    "    for i, state in enumerate(states):\n",
    "        origin = partition[state].representative\n",
    "        for symbol, destinations in automaton.transitions[origin].items():\n",
    "            transitions[i, symbol] = partition[destinations].representative\n",
    "            \n",
    "            try:\n",
    "                transitions[i,symbol]\n",
    "                assert False\n",
    "            except KeyError:\n",
    "                pass\n",
    "    \n",
    "    finals = { partition[state].representative for state in automaton.finals }\n",
    "    start = partition[automaton.start].representative\n",
    "    \n",
    "    return DFA(len(states), finals, transitions, start)"
   ]
  },
  {
   "cell_type": "code",
   "execution_count": 24,
   "metadata": {},
   "outputs": [
    {
     "name": "stdout",
     "output_type": "stream",
     "text": [
      "[[3], [0, 2], [4], [1]]\n"
     ]
    }
   ],
   "source": [
    "states = state_minimization(automaton)\n",
    "print(states)\n",
    "\n",
    "for members in states.groups:\n",
    "    all_in_finals = all(m.value in automaton.finals for m in members)\n",
    "    none_in_finals = all(m.value not in automaton.finals for m in members)\n",
    "    assert all_in_finals or none_in_finals\n",
    "    \n",
    "assert len(states) == 4\n",
    "assert states[0].representative == states[2].representative\n",
    "assert states[1].representative == states[1]\n",
    "assert states[3].representative == states[3]\n",
    "assert states[4].representative == states[4]"
   ]
  },
  {
   "cell_type": "markdown",
   "metadata": {},
   "source": [
    "Comprobemos que el algoritmo de minimización funciona correctamente. La cantidad de estados debe haberse reducido puesto que los estados `0` y `2` no son diferenciables. El autómata debe seguir reconociendo el lenguaje `(a|b)*abb`."
   ]
  },
  {
   "cell_type": "code",
   "execution_count": 25,
   "metadata": {},
   "outputs": [
    {
     "ename": "KeyError",
     "evalue": "3",
     "output_type": "error",
     "traceback": [
      "\u001b[1;31m---------------------------------------------------------------------------\u001b[0m",
      "\u001b[1;31mKeyError\u001b[0m                                  Traceback (most recent call last)",
      "Cell \u001b[1;32mIn[25], line 1\u001b[0m\n\u001b[1;32m----> 1\u001b[0m mini \u001b[38;5;241m=\u001b[39m \u001b[43mautomata_minimization\u001b[49m\u001b[43m(\u001b[49m\u001b[43mautomaton\u001b[49m\u001b[43m)\u001b[49m\n\u001b[0;32m      2\u001b[0m display(mini)\n\u001b[0;32m      4\u001b[0m \u001b[38;5;28;01massert\u001b[39;00m mini\u001b[38;5;241m.\u001b[39mstates \u001b[38;5;241m==\u001b[39m \u001b[38;5;241m4\u001b[39m\n",
      "Cell \u001b[1;32mIn[20], line 61\u001b[0m, in \u001b[0;36mautomata_minimization\u001b[1;34m(automaton)\u001b[0m\n\u001b[0;32m     59\u001b[0m transitions \u001b[38;5;241m=\u001b[39m {}\n\u001b[0;32m     60\u001b[0m \u001b[38;5;28;01mfor\u001b[39;00m i, state \u001b[38;5;129;01min\u001b[39;00m \u001b[38;5;28menumerate\u001b[39m(states):\n\u001b[1;32m---> 61\u001b[0m     origin \u001b[38;5;241m=\u001b[39m \u001b[43mpartition\u001b[49m\u001b[43m[\u001b[49m\u001b[43mstate\u001b[49m\u001b[43m]\u001b[49m\u001b[38;5;241m.\u001b[39mrepresentative\n\u001b[0;32m     62\u001b[0m     \u001b[38;5;28;01mfor\u001b[39;00m symbol, destinations \u001b[38;5;129;01min\u001b[39;00m automaton\u001b[38;5;241m.\u001b[39mtransitions[origin]\u001b[38;5;241m.\u001b[39mitems():\n\u001b[0;32m     63\u001b[0m         transitions[i, symbol] \u001b[38;5;241m=\u001b[39m partition[destinations]\u001b[38;5;241m.\u001b[39mrepresentative\n",
      "File \u001b[1;32mc:\\Users\\aldai\\school\\compilers\\CP\\cmp\\utils.py:193\u001b[0m, in \u001b[0;36mDisjointSet.__getitem__\u001b[1;34m(self, item)\u001b[0m\n\u001b[0;32m    192\u001b[0m \u001b[38;5;28;01mdef\u001b[39;00m \u001b[38;5;21m__getitem__\u001b[39m(\u001b[38;5;28mself\u001b[39m, item):\n\u001b[1;32m--> 193\u001b[0m     \u001b[38;5;28;01mreturn\u001b[39;00m \u001b[38;5;28;43mself\u001b[39;49m\u001b[38;5;241;43m.\u001b[39;49m\u001b[43mnodes\u001b[49m\u001b[43m[\u001b[49m\u001b[43mitem\u001b[49m\u001b[43m]\u001b[49m\n",
      "\u001b[1;31mKeyError\u001b[0m: 3"
     ]
    }
   ],
   "source": [
    "mini = automata_minimization(automaton)\n",
    "display(mini)\n",
    "\n",
    "assert mini.states == 4\n",
    "\n",
    "assert mini.recognize('abb')\n",
    "assert mini.recognize('ababbaabb')\n",
    "\n",
    "assert not mini.recognize('')\n",
    "assert not mini.recognize('ab')\n",
    "assert not mini.recognize('aaaaa')\n",
    "assert not mini.recognize('bbbbb')\n",
    "assert not mini.recognize('abbabababa')"
   ]
  },
  {
   "cell_type": "markdown",
   "metadata": {},
   "source": [
    "## Propuestas\n",
    "- Implemente el resto de las operaciones entre autómatas vistas en conferencia:\n",
    "    - Complemento\n",
    "    - Intersección\n",
    "    - Diferencia\n",
    "    - Reverso\n",
    "    - Zip"
   ]
  }
 ],
 "metadata": {
  "kernelspec": {
   "display_name": "Python 3",
   "language": "python",
   "name": "python3"
  },
  "language_info": {
   "codemirror_mode": {
    "name": "ipython",
    "version": 3
   },
   "file_extension": ".py",
   "mimetype": "text/x-python",
   "name": "python",
   "nbconvert_exporter": "python",
   "pygments_lexer": "ipython3",
   "version": "3.10.6"
  }
 },
 "nbformat": 4,
 "nbformat_minor": 4
}
