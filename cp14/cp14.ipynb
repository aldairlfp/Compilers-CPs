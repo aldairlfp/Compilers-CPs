{
 "cells": [
  {
   "cell_type": "markdown",
   "metadata": {},
   "source": [
    "# Clase Pr\u00e1ctica #14 (Compilaci\u00f3n)\n",
    "\n",
    "En esta clase implementaremos las primeras fases de chequeo sem\u00e1ntico para el lenguaje que comenzamos a estudiar en la clase anterior. Pasemos a importar lo que ya hab\u00edamos implementado."
   ]
  },
  {
   "cell_type": "code",
   "execution_count": null,
   "metadata": {},
   "outputs": [],
   "source": [
    "import cmp.nbpackage\n",
    "import cmp.visitor as visitor\n",
    "\n",
    "from cp13 import G, text\n",
    "from cp13 import Node, ProgramNode, DeclarationNode, ExpressionNode\n",
    "from cp13 import ClassDeclarationNode, FuncDeclarationNode, AttrDeclarationNode\n",
    "from cp13 import VarDeclarationNode, AssignNode, CallNode\n",
    "from cp13 import AtomicNode, BinaryNode\n",
    "from cp13 import ConstantNumNode, VariableNode, InstantiateNode, PlusNode, MinusNode, StarNode, DivNode\n",
    "from cp13 import FormatVisitor, tokenize_text, pprint_tokens\n",
    "\n",
    "from cmp.tools.parsing import LR1Parser\n",
    "from cmp.evaluation import evaluate_reverse_parse"
   ]
  },
  {
   "cell_type": "markdown",
   "metadata": {},
   "source": [
    "La gram\u00e1tica `G` es la gram\u00e1tica que dise\u00f1amos para el lenguaje. Esta debe atrapar la sintaxis del lenguaje. Por otro lado, las reglas que incluimos al atributar la gram\u00e1tica deber\u00edan construir una representaci\u00f3n sobre la que fuera c\u00f3modo comprobar la sem\u00e1ntica del programa. Estamos hablando justamente del **AST**.\n",
    "\n",
    "Construyamos el siguiente m\u00e9todo `run_pipeline`, el cual recibe una cadena de texto y una gram\u00e1tica, y pasar\u00e1 por las fases de an\u00e1lisis lexicogr\u00e1fico y sint\u00e1cticto, y finalmente evaluar\u00e1 las reglas para devolvernos el AST."
   ]
  },
  {
   "cell_type": "code",
   "execution_count": null,
   "metadata": {},
   "outputs": [],
   "source": [
    "def run_pipeline(G, text):\n",
    "    print('=================== TEXT ======================')\n",
    "    print(text)\n",
    "    print('================== TOKENS =====================')\n",
    "    tokens = tokenize_text(text)\n",
    "    pprint_tokens(tokens)\n",
    "    print('=================== PARSE =====================')\n",
    "    parser = LR1Parser(G)\n",
    "    parse, operations = parser([t.token_type for t in tokens], get_shift_reduce=True)\n",
    "    print('\\n'.join(repr(x) for x in parse))\n",
    "    print('==================== AST ======================')\n",
    "    ast = evaluate_reverse_parse(parse, operations, tokens)\n",
    "    formatter = FormatVisitor()\n",
    "    tree = formatter.visit(ast)\n",
    "    print(tree)\n",
    "    return ast\n",
    "    \n",
    "if __name__ == '__main__': ast = run_pipeline(G, text)"
   ]
  },
  {
   "cell_type": "markdown",
   "metadata": {},
   "source": [
    "## Chequeo sem\u00e1ntico\n",
    "\n",
    "En `cmp.semantic` se distribuyen una serie de clases que funcionar\u00e1n como soporte para la fase de chequeo sem\u00e1ntico."
   ]
  },
  {
   "cell_type": "code",
   "execution_count": null,
   "metadata": {},
   "outputs": [],
   "source": [
    "from cmp.semantic import SemanticError\n",
    "from cmp.semantic import Attribute, Method, Type\n",
    "from cmp.semantic import VoidType, ErrorType\n",
    "from cmp.semantic import Context"
   ]
  },
  {
   "cell_type": "markdown",
   "metadata": {},
   "source": [
    "- La clase `SemanticError` hereda de `Exception` para funcionar como mecanismo para manejar errores en los contextos. El campo `text` que poseen las instancias de `SemanticError` permite obtener el texto de error con el que se construy\u00f3.\n",
    "- Las clases `Attribute` y `Method` funcionan como contenedores de los datos necesarios para representar los atributos y m\u00e9todos del lenguaje respectivamente. Del primero se almacena el nombre del campo (un `str)` y su tipo (una instancia de `Type`). Del segundo se almacenan: nombre del m\u00e9todo (`str`), nombre de los par\u00e1metros (`list<str>`), tipos de los par\u00e1metros (`list<Type>`) y el tipo de retorno (`Type`).\n",
    "- La clase `Type` funciona como descriptor de todos los atributos y m\u00e9todos con que cuentan los tipos del lenguaje. Esta clase permite crear instancias a partir del nombre del tipo (`Type(name)`) y posteriormente actualizar su definici\u00f3n con:\n",
    "    - tipo padre: `set_parent(...)`.\n",
    "    - atributos: `get_attributes(...)` y `define_attribute(...)`.\n",
    "    - m\u00e9todos: `get_method(...)` y `define_method(...)`.\n",
    "\n",
    "> Para m\u00e1s informaci\u00f3n se recomienda revisar el c\u00f3digo fuente disponible en `cmp.semantic`.\n",
    "\n",
    "- La clase `VoidType` puede usarse para manejar el tipo de retorno `void` de los m\u00e9todos. Tiene la particularidad de que todas sus instancias son iguales entre s\u00ed.\n",
    "- La clase `ErrorType` puede usarse para manejar las situaciones en las que se refiere un tipo que no ha sido declarado. Esto nos permitir\u00e1 detectar m\u00e1s errores que detener el chequeo sem\u00e1ntico al primer error. Las instancias de `ErrorType` tiene la particularidad de ser iguales entre s\u00ed y a cualquier instancia de `Type`. Adem\u00e1s, el tipo `ErrorType` se conforma (en el sentido de herencia) a todo tipo y viceversa.\n",
    "- La clase `Context` permite controlar los tipos que han sido definidos en el lenguaje.\n",
    "    - definir un tipo: `create_type(...)`.\n",
    "    - obtener un tipo: `get_type(...)`."
   ]
  },
  {
   "cell_type": "markdown",
   "metadata": {},
   "source": [
    "## Recolectando de tipos\n",
    "\n",
    "Dado que en este lenguaje los tipos pueden referenciarse antes de declararse, se vuelve necesario realizar un primer recorrido del AST recolectando todos los tipos. Esto lo haremos utilizando el patr\u00f3n `visitor` con el que trabajamos en clases anteriores."
   ]
  },
  {
   "cell_type": "code",
   "execution_count": null,
   "metadata": {},
   "outputs": [],
   "source": [
    "class TypeCollector(object):\n",
    "    def __init__(self, errors=[]):\n",
    "        self.context = None\n",
    "        self.errors = errors\n",
    "    \n",
    "    @visitor.on('node')\n",
    "    def visit(self, node):\n",
    "        pass\n",
    "    \n",
    "    @visitor.when(ProgramNode)\n",
    "    def visit(self, node):\n",
    "        self.context = Context()\n",
    "        # Your code here!!!\n",
    "        pass\n",
    "        \n",
    "    # Your code here!!!\n",
    "    # ????\n"
   ]
  },
  {
   "cell_type": "markdown",
   "metadata": {},
   "source": [
    "Comprobemos que implementamos correctamente el recorrido. Tras visitar el AST deber\u00edamos tener en el campo `context` del `visitor` todos los tipos definidos en el programa _... y algo m\u00e1s? ;-)_"
   ]
  },
  {
   "cell_type": "code",
   "execution_count": null,
   "metadata": {},
   "outputs": [],
   "source": [
    "if __name__ == '__main__':\n",
    "    errors = []\n",
    "\n",
    "    collector = TypeCollector(errors)\n",
    "    collector.visit(ast)\n",
    "\n",
    "    context = collector.context\n",
    "\n",
    "    print('Errors:', errors)\n",
    "    print('Context:')\n",
    "    print(context)\n",
    "\n",
    "    assert errors == []"
   ]
  },
  {
   "cell_type": "markdown",
   "metadata": {},
   "source": [
    "## Construyendo los tipos\n",
    "\n",
    "Pasemos ahora a construir los tipos. Pero _... realmente podremos comenzar ya a chequear todo el c\u00f3digo? (incluyendo el cuerpo de los m\u00e9todos)_. Resulta que no. En este lenguaje en orden en que se definen los m\u00e9todos tampoco es relevante: _se pueden llamar antes de declararse_. Esto permite que haya recursividad en el lenguaje que lleva un chequeo extra antes de pasar a revisar los cuerpos de los m\u00e9todos.\n",
    "\n",
    "N\u00f3tese que al haber recolectado ya todos los tipos, se logra que los par\u00e1metros, valores de retorno, y otras refencias a tipos, puedan ser resueltas en este recorrido sin problemas."
   ]
  },
  {
   "cell_type": "code",
   "execution_count": null,
   "metadata": {},
   "outputs": [],
   "source": [
    "class TypeBuilder:\n",
    "    def __init__(self, context, errors=[]):\n",
    "        self.context = context\n",
    "        self.current_type = None\n",
    "        self.errors = errors\n",
    "    \n",
    "    @visitor.on('node')\n",
    "    def visit(self, node):\n",
    "        pass\n",
    "    \n",
    "    # Your code here!!!\n",
    "    # ????\n"
   ]
  },
  {
   "cell_type": "markdown",
   "metadata": {},
   "source": [
    "Comprobemos la implementaci\u00f3n. Tras esta fase deber\u00edamos tener completados todos los tipos."
   ]
  },
  {
   "cell_type": "code",
   "execution_count": null,
   "metadata": {},
   "outputs": [],
   "source": [
    "if __name__ == '__main__': \n",
    "    builder = TypeBuilder(context, errors)\n",
    "    builder.visit(ast)\n",
    "\n",
    "    print('Errors:', errors)\n",
    "    print('Context:')\n",
    "    print(context)"
   ]
  },
  {
   "cell_type": "markdown",
   "metadata": {},
   "source": [
    "## Comprobando ..."
   ]
  },
  {
   "cell_type": "code",
   "execution_count": null,
   "metadata": {},
   "outputs": [],
   "source": [
    "deprecated_pipeline = run_pipeline"
   ]
  },
  {
   "cell_type": "markdown",
   "metadata": {},
   "source": [
    "Actualizaremos el pipeline para incluir estos 2 recorridos."
   ]
  },
  {
   "cell_type": "code",
   "execution_count": null,
   "metadata": {},
   "outputs": [],
   "source": [
    "def run_pipeline(G, text):\n",
    "    ast = deprecated_pipeline(G, text)\n",
    "    print('============== COLLECTING TYPES ===============')\n",
    "    errors = []\n",
    "    collector = TypeCollector(errors)\n",
    "    collector.visit(ast)\n",
    "    context = collector.context\n",
    "    print('Errors:', errors)\n",
    "    print('Context:')\n",
    "    print(context)\n",
    "    print('=============== BUILDING TYPES ================')\n",
    "    builder = TypeBuilder(context, errors)\n",
    "    builder.visit(ast)\n",
    "    print('Errors: [')\n",
    "    for error in errors:\n",
    "        print('\\t', error)\n",
    "    print(']')\n",
    "    print('Context:')\n",
    "    print(context)\n",
    "    return ast, errors, context"
   ]
  },
  {
   "cell_type": "markdown",
   "metadata": {},
   "source": [
    "### Programa #1\n",
    "\n",
    "El siguiente programa es con el que hemos estado trabajando y no deber\u00eda contener errores."
   ]
  },
  {
   "cell_type": "code",
   "execution_count": null,
   "metadata": {},
   "outputs": [],
   "source": [
    "from cp13 import text\n",
    "\n",
    "if __name__ == '__main__': \n",
    "    ast, errors, context = run_pipeline(G, text)\n",
    "    assert errors == []"
   ]
  },
  {
   "cell_type": "markdown",
   "metadata": {},
   "source": [
    "### Programa #2\n",
    "\n",
    "Se incluyeron varios errores al programa anterior. Intente detectar todos los errores posibles."
   ]
  },
  {
   "cell_type": "code",
   "execution_count": null,
   "metadata": {},
   "outputs": [],
   "source": [
    "if __name__ == '__main__': \n",
    "    text = '''\n",
    "    class A {\n",
    "        a : Z ;\n",
    "        def suma ( a : int , b : B ) : int {\n",
    "            a + b ;\n",
    "        }\n",
    "        b : int ;\n",
    "        c : C ;\n",
    "    }\n",
    "\n",
    "    class B : A {\n",
    "        c : A ;\n",
    "        def f ( d : int , a : A ) : void {\n",
    "            let f : int = 8 ;\n",
    "            let c = new A ( ) . suma ( 5 , f ) ;\n",
    "            c ;\n",
    "        }\n",
    "        z : int ;\n",
    "        z : A ;\n",
    "    }\n",
    "\n",
    "    class C : Z {\n",
    "    }\n",
    "\n",
    "    class D : A {\n",
    "        def suma ( a : int , d : B ) : int {\n",
    "            d ;\n",
    "        }\n",
    "    }\n",
    "\n",
    "    class E : A {\n",
    "        def suma ( a : A , b : B ) : int {\n",
    "            a ;\n",
    "        }\n",
    "    }\n",
    "\n",
    "    class F : B {\n",
    "        def f ( d : int , a : A ) : void {\n",
    "            a ;\n",
    "        }\n",
    "    }\n",
    "    '''\n",
    "\n",
    "    ast, errors, context = run_pipeline(G, text)\n",
    "\n",
    "    assert sorted(errors) == sorted([\n",
    "         'Type \"Z\" is not defined.',\n",
    "         'Attribute \"c\" is already defined in B.',\n",
    "         'Attribute \"z\" is already defined in B.',\n",
    "         'Type \"Z\" is not defined.'\n",
    "    ])"
   ]
  },
  {
   "cell_type": "markdown",
   "metadata": {},
   "source": [
    "## Propuestas\n",
    "\n",
    "- Compruebe el hecho de que todo programa del lenguaje deba tener una clase `Main` con un m\u00e9todo `main`.\n",
    "- Garantice que no haya circularidad de tipos.\n",
    "\n",
    "> El siguente programa tiene un problema: la defici\u00f3n de `A` y `B` forma un ciclo.\n",
    ">\n",
    ">```python\n",
    ">text = '''\n",
    ">class A : B {\n",
    ">}\n",
    ">class B : A {\n",
    ">}\n",
    ">'''\n",
    ">\n",
    ">ast, errors, context = run_pipeline(G, text)\n",
    ">assert len(errors) != 0\n",
    ">```\n",
    "\n",
    "- Verifique que no hayan sobrecargas de m\u00e9todos\n",
    "\n",
    "> El m\u00e9todo `f` ya est\u00e1 definido en `B` con una firma distinta.\n",
    ">```python\n",
    ">text = '''\n",
    ">class A {\n",
    ">    def f ( a : int , d : int ) : int {\n",
    ">        d ;\n",
    ">    }\n",
    ">}\n",
    ">class B : A {\n",
    ">    def f ( a : A , d : int ) : A {\n",
    ">        d ;\n",
    ">    }\n",
    ">}\n",
    ">'''\n",
    ">\n",
    ">ast, errors, context = run_pipeline(G, text)\n",
    ">assert len(errors) != 0\n",
    ">```"
   ]
  }
 ],
 "metadata": {
  "kernelspec": {
   "display_name": "Python 3",
   "language": "python",
   "name": "python3"
  },
  "language_info": {
   "codemirror_mode": {
    "name": "ipython",
    "version": 3
   },
   "file_extension": ".py",
   "mimetype": "text/x-python",
   "name": "python",
   "nbconvert_exporter": "python",
   "pygments_lexer": "ipython3",
   "version": "3.6.4"
  }
 },
 "nbformat": 4,
 "nbformat_minor": 2
}