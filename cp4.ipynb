{
 "cells": [
  {
   "cell_type": "markdown",
   "metadata": {},
   "source": [
    "# Clase Práctica #4 (Compilación)\n",
    "\n",
    "En esta clase estaremos implementando un mecanismo genérico de **evaluación** de cadenas a partir de la especificación de **atributos** y **reglas** en la gramática. Diseñaremos concretamente las reglas de evaluación para la gramática del subconjunto de `HULK` con que hemos trabajado desde clases anteriores."
   ]
  },
  {
   "cell_type": "markdown",
   "metadata": {},
   "source": [
    "## Gramáticas Atributadas\n",
    "\n",
    "Recordemos que una **gramática atributada** es una tupla $<G,A,R>$, donde:\n",
    "\n",
    "* $G = <S,P,N,T>$ es una gramática libre del contexto,\n",
    "* $A$ es un conjunto de atributos de la forma $X \\cdot a$\n",
    "  donde $X \\in N \\cup T$ y $a$ es un identificador único entre todos los atributos del mismo símbolo, y\n",
    "* $R$ es un conjunto de reglas de la forma $<p_i, r_i>$ donde $p_i \\in P$ es una producción $X \\to Y_1, \\ldots, Y_n$, y $r_i$ es una regla de la forma:\n",
    "    1. $X \\cdot a = f(Y_1 \\cdot a_1, \\ldots, Y_n \\cdot a_n)$, o\n",
    "    2. $Y_i \\cdot a = f(X \\cdot a_0, Y_1 \\cdot a_1, \\ldots, Y_n \\cdot a_n)$.\n",
    "\n",
    "Los atributos se dividen en dos conjuntos disjuntos: _atributos heredados_ y _atributos sintetizados_. En el caso (1) decimos que `a` es un _atributo sintetizado_, y en el caso (2), un _atributo heredado_.\n",
    "\n",
    "Según esta distinción, estudiamos en conferencia condiciones suficientes para que una gramática fuera evaluable:\n",
    "\n",
    "- Una gramática atributada es **s-atributada** si y solo si, para toda regla $r_i$ asociada a una producción $X \\to Y_1, \\ldots, Y_n$, se cumple que $r_i$ es de la forma $X \\cdot a = f(Y_1 \\cdot a_1, \\ldots, Y_n \\cdot a_n)$.\n",
    "\n",
    "- Una gramática atributada es **l-atributada** si y solo si toda regla $r_i$ asociada a una producción $X \\to Y_1, \\ldots, Y_n$ es de una de las siguientes formas:\n",
    "    - $X \\cdot a = f(Y_1 \\cdot a_1, \\ldots, Y_n \\cdot a_n)$, ó\n",
    "    - $Y_i \\cdot a_i = f(X \\cdot a, Y_1 \\cdot a_1, \\ldots, Y_{i-1} \\cdot a_{i-1})$."
   ]
  },
  {
   "cell_type": "markdown",
   "metadata": {},
   "source": [
    "### Especificación en _Python_\n",
    "\n",
    "Continuaremos trabajando con la _API_ para gramáticas presentada en la clase anterior. Esta vez, la definición de símbolo, oración, producción, gramática, etc. se encuentra en el módulo `cmp` que se distribuye junto a este _notebook_.\n",
    "\n",
    "Procedamos a importar las clases y métodos que nos interesan."
   ]
  },
  {
   "cell_type": "code",
   "execution_count": 185,
   "metadata": {},
   "outputs": [],
   "source": [
    "from cmp.pycompiler import Symbol, NonTerminal, Terminal, EOF, Sentence, Epsilon, Production, Grammar\n",
    "from cmp.utils import pprint, inspect"
   ]
  },
  {
   "cell_type": "markdown",
   "metadata": {},
   "source": [
    "A la _API_ de gramáticas se añade una nueva clase: `AttributeProduction`. Con esta clase modelaremos las producciones de las gramáticas atributadas. Cada una de estas producciones se compone por:\n",
    "- Un no terminal como cabecera. Accesible a través del campo `Left`.\n",
    "- Una oración como cuerpo. Accesible a través del campo `Right`.\n",
    "- Un conjunto de reglas para evaluar los atributos. Accesible a través del campo `atributes`.\n",
    "\n",
    "Las producciones no deben ser instanciadas directamente con la aplicación de su constructor. En su lugar, se presentan las siguientes facilidades para formar producciones a partir de una instancia `G` de `Grammar` y un grupo de terminales y no terminales:\n",
    "- Para definir una producción de la forma $B_0 \\to B_1 B_2 ... B_n$ que:\n",
    "    - Asocia a $B_0$ una regla $\\lambda_0$ para sintetizar sus atributos, y\n",
    "    - Asocia a $B_1 \\dots B_n$ las reglas $\\lambda_1 \\dots \\lambda_n$ que hereden sus atributos respectivamentes.\n",
    "    \n",
    "    ```python\n",
    "    B0 %= B1 + B2 + ... + Bn, lambda0, lambda1, lambda2, ..., lambdaN\n",
    "    ```\n",
    "    \n",
    "> Donde `lambda0`, `lambda1`, ..., `lambdaN` son funciones que reciben 2 parámetros.\n",
    "> 1. Como primer parámetro los atributos heredados que se han computado para cada instancia de símbolo en la producción, durante la aplicación de esa instancia de producción específicamente. Los valores se acceden desde una lista de `n + 1` elementos. Los valores se ordenan según aparecen los símbolos en la producción, comenzando por la cabecera. Nos referiremos a esta colección como `inherited`.\n",
    "> 2. Como segundo parámetro los atributos sintetizados que se han computado para cada instancia de símbolo en la producción, durante la aplicación de esa instancia de producción específicamente. Sigue la misma estructura que el primer parámetro. Nos referiremos a esta colección como `synteticed`.\n",
    ">\n",
    "> La función `lambda0` sintetiza los atributos de la cabecera. La evaluación de dicha función produce el valor de `synteticed[0]`. El resto de los atributos sintetizados de los símbolos de la producción se calcula de la siguiente forma:\n",
    "> - En caso de que el símbolo sea un terminal, evalúa como su lexema.\n",
    "> - En caso de que el símbolo sea un no terminal, se obtiene de evaluar la función `lambda0` en la instancia de producción correspondiente.\n",
    ">\n",
    "> La función `lambda_i`, con `i` entre 1 y `n`, computa los atributos heredados de la i-ésima ocurrencia de símbolo en la producción. La evaluación de dicha función produce el valor de `inherited[i]`. El valor de `inherited[0]` se obtiene como el atributo que heredó la instancia concreta del símbolo en la cabecera antes de comenzar a aplicar la producción.\n",
    "\n",
    "- En caso de que no se vaya a sociar una regla a un símbolo se incluirá un `None`.\n",
    "    ```python\n",
    "       E %= T + X   ,  lambda h,s: s[2]  ,    None    ,   lambda h,s: s[1]\n",
    "    # ___________     ________________     ________      ________________\n",
    "    # producción  |    regla para E    |  sin regla  |     regla para X \n",
    "    ```\n",
    "    > `[0]:` **`lambda h,s: s[2]`** al ser `lambda0` sintetiza el valor de `E`. Lo hace en función del valor que sintetiza `X` (accesible desde `s[2]`).  \n",
    "    > `[1]:` **`None`** al ser `lambda1` indica que no se incluye regla para heredar valor a `T`.  \n",
    "    > `[2]:` **`lambda h,s: s[1]`** al ser `lambda2` hereda un valor a `X`. Lo hace en función del valor que sintetiza `T` (accesible desde `s[1]`).\n",
    "\n",
    "- No se deben definir múltiples producciones de la misma cabecera en una única sentencia."
   ]
  },
  {
   "cell_type": "code",
   "execution_count": 186,
   "metadata": {},
   "outputs": [],
   "source": [
    "class AttributeProduction(Production):\n",
    "\n",
    "    def __init__(self, nonTerminal, sentence, attributes):\n",
    "        if not isinstance(sentence, Sentence) and isinstance(sentence, Symbol):\n",
    "            sentence = Sentence(sentence)\n",
    "        super(AttributeProduction, self).__init__(nonTerminal, sentence)\n",
    "\n",
    "        self.attributes = attributes\n",
    "\n",
    "    def __str__(self):\n",
    "        return '%s := %s' % (self.Left, self.Right)\n",
    "\n",
    "    def __repr__(self):\n",
    "        return '%s -> %s' % (self.Left, self.Right)\n",
    "\n",
    "    def __iter__(self):\n",
    "        yield self.Left\n",
    "        yield self.Right\n",
    "\n",
    "\n",
    "    @property\n",
    "    def IsEpsilon(self):\n",
    "        return self.Right.IsEpsilon"
   ]
  },
  {
   "cell_type": "markdown",
   "metadata": {},
   "source": [
    "#### Gramática de HULK\n",
    "\n",
    "Completemos entonces la siguiente especificación de la gramática para `HULK` añadiendo las reglas necesarias.\n",
    "\n",
    "`E` $\\rightarrow$ `T X`  \n",
    "`X` $\\rightarrow$ `+ T X | - T X | epsilon`  \n",
    "`T` $\\rightarrow$ `F Y`  \n",
    "`Y` $\\rightarrow$ `* F Y | / F Y | epsilon`  \n",
    "`F` $\\rightarrow$ `( E ) | num`"
   ]
  },
  {
   "cell_type": "code",
   "execution_count": 187,
   "metadata": {},
   "outputs": [
    {
     "name": "stdout",
     "output_type": "stream",
     "text": [
      "Non-Terminals:\n",
      "\tE, T, F, X, Y\n",
      "Terminals:\n",
      "\t+, -, *, /, (, ), num\n",
      "Productions:\n",
      "\t[E -> T X, X -> + T X, X -> - T X, X -> e, T -> F Y, Y -> * F Y, Y -> / F Y, Y -> e, F -> num, F -> ( E )]\n"
     ]
    }
   ],
   "source": [
    "G = Grammar()\n",
    "E = G.NonTerminal('E', True)\n",
    "T, F, X, Y = G.NonTerminals('T F X Y')\n",
    "plus, minus, star, div, opar, cpar, num = G.Terminals('+ - * / ( ) num')\n",
    "\n",
    "############################ BEGIN PRODUCTIONS ############################\n",
    "# ======================================================================= #\n",
    "#                                                                         #\n",
    "# ========================== { E --> T X } ============================== #\n",
    "#                                                                         #\n",
    "E %= T + X, lambda h,s: s[2], None, lambda h,s: s[1]\n",
    "#                                                                         #\n",
    "# =================== { X --> + T X | - T X | epsilon } ================= #\n",
    "#                                                                         #\n",
    "X %= plus + T + X, lambda h, s: s[3], None, None, lambda h, s: h[0] + s[2]\n",
    "X %= minus + T + X, lambda h, s: s[3], None, None, lambda h, s: h[0] - s[2]\n",
    "X %= G.Epsilon, lambda h, s: h[0]\n",
    "#                                                                         #\n",
    "# ============================ { T --> F Y } ============================ #\n",
    "#                                                                         #\n",
    "T %= F + Y, lambda h, s: s[2], None, lambda h, s: s[1]\n",
    "#                                                                         #\n",
    "# ==================== { Y --> * F Y | / F Y | epsilon } ================ #\n",
    "#                                                                         #\n",
    "Y %= star + F + Y, lambda h, s: s[3], None, None, lambda h, s: h[0] * s[2]    \n",
    "Y %= div + F + Y, lambda h, s: s[3], None, None, lambda h, s: h[0] / s[2]\n",
    "Y %= G.Epsilon, lambda h, s: h[0]\n",
    "#                                                                         #\n",
    "# ======================= { F --> num | ( E ) } ========================= #\n",
    "F %= num, lambda h, s: s[1], None\n",
    "F %= opar + E + cpar, lambda h, s: s[2], None, None, None\n",
    "#                                                                         #\n",
    "# ======================================================================= #\n",
    "############################# END PRODUCTIONS #############################\n",
    "\n",
    "print(G)"
   ]
  },
  {
   "cell_type": "markdown",
   "metadata": {},
   "source": [
    "## Parsing"
   ]
  },
  {
   "cell_type": "markdown",
   "metadata": {},
   "source": [
    "En la clase pasada implementamos los algoritmos para calcular los conjuntos `first` y `follow`. Esta vez utilizaremos dichos conjuntos ya precomputados para nuestro subconjunto de `HULK`. Pasemos a importarlos desde el módulo `utils`."
   ]
  },
  {
   "cell_type": "code",
   "execution_count": 188,
   "metadata": {},
   "outputs": [],
   "source": [
    "from cmp.languages import BasicHulk\n",
    "\n",
    "hulk = BasicHulk(G)\n",
    "firsts, follows = hulk.firsts, hulk.follows"
   ]
  },
  {
   "cell_type": "markdown",
   "metadata": {},
   "source": [
    "De forma similar procederemos con los métodos `build_parsing_table` y `metodo_predictivo_no_recursivo` que devuelven la tabla _LL(1)_ y el parser _LL(1)_ respectivamente. Pasemos a importarlos desde el módulo `tools`."
   ]
  },
  {
   "cell_type": "code",
   "execution_count": 189,
   "metadata": {},
   "outputs": [],
   "source": [
    "from cmp.tools.parsing import build_parsing_table\n",
    "from cmp.tools.parsing import deprecated_metodo_predictivo_no_recursivo as metodo_predictivo_no_recursivo\n",
    "\n",
    "# Testing table\n",
    "M = build_parsing_table(G, firsts, follows)\n",
    "assert M == hulk.table\n",
    "\n",
    "# Testing parser\n",
    "parser = metodo_predictivo_no_recursivo(G, M)\n",
    "left_parse = parser([num, star, num, star, num, plus, num, star, num, plus, num, plus, num, G.EOF])\n",
    "assert left_parse == [ \n",
    "   Production(E, Sentence(T, X)),\n",
    "   Production(T, Sentence(F, Y)),\n",
    "   Production(F, Sentence(num)),\n",
    "   Production(Y, Sentence(star, F, Y)),\n",
    "   Production(F, Sentence(num)),\n",
    "   Production(Y, Sentence(star, F, Y)),\n",
    "   Production(F, Sentence(num)),\n",
    "   Production(Y, G.Epsilon),\n",
    "   Production(X, Sentence(plus, T, X)),\n",
    "   Production(T, Sentence(F, Y)),\n",
    "   Production(F, Sentence(num)),\n",
    "   Production(Y, Sentence(star, F, Y)),\n",
    "   Production(F, Sentence(num)),\n",
    "   Production(Y, G.Epsilon),\n",
    "   Production(X, Sentence(plus, T, X)),\n",
    "   Production(T, Sentence(F, Y)),\n",
    "   Production(F, Sentence(num)),\n",
    "   Production(Y, G.Epsilon),\n",
    "   Production(X, Sentence(plus, T, X)),\n",
    "   Production(T, Sentence(F, Y)),\n",
    "   Production(F, Sentence(num)),\n",
    "   Production(Y, G.Epsilon),\n",
    "   Production(X, G.Epsilon),\n",
    "]"
   ]
  },
  {
   "cell_type": "markdown",
   "metadata": {},
   "source": [
    "## Evaluación\n",
    "\n",
    "En la clase anterior asumimos que la cadena de entrada que queremos parsear es una lista de símbolos terminales. Aún así, notemos que en realidad la entrada no está compuesta solamente por estos símbolos. El parser trabaja con una secuencia de _tokens_, que como ya sabemos se componen de un _lexema_ y un _tipo_. Los símbolos terminales son justamente los tipos de los tokens y, por tanto, son los valores relevantes al parsear. Sin embargo, nuestro problema no termina al parsear sino que debemos ser capaces de evaluar, en el lenguaje actual, la expresión de `HULK` que se dió como entrada. Para ello, el lexema de los tokens juega un papel esencial ya que son estos los que capturan las particularidades de los valores de entrada. Por ejemplo, en el caso de `HULK`, para saber qué dos números se están operando es necesario considerar los lexemas.\n",
    "\n",
    "A continuación se implementa la clase `Token` usada para modelar los tokens. Se puede acceder al lexema y tipo de cada token a través de los campos `lex` y `token_type` respectivamente."
   ]
  },
  {
   "cell_type": "code",
   "execution_count": 190,
   "metadata": {},
   "outputs": [],
   "source": [
    "class Token:\n",
    "    \"\"\"\n",
    "    Basic token class. \n",
    "    \n",
    "    Parameters\n",
    "    ----------\n",
    "    lex : str\n",
    "        Token's lexeme.\n",
    "    token_type : Enum\n",
    "        Token's type.\n",
    "    \"\"\"\n",
    "    \n",
    "    def __init__(self, lex, token_type):\n",
    "        self.lex = lex\n",
    "        self.token_type = token_type\n",
    "    \n",
    "    def __str__(self):\n",
    "        return f'{self.token_type}: {self.lex}'\n",
    "    \n",
    "    def __repr__(self):\n",
    "        return str(self)"
   ]
  },
  {
   "cell_type": "markdown",
   "metadata": {},
   "source": [
    "Modifiquemos el generador de parsers para que acceda el tipo de token a través de la propiedad `token_type`."
   ]
  },
  {
   "cell_type": "code",
   "execution_count": 191,
   "metadata": {},
   "outputs": [],
   "source": [
    "deprecated_metodo_predictivo_no_recursivo = metodo_predictivo_no_recursivo"
   ]
  },
  {
   "cell_type": "markdown",
   "metadata": {},
   "source": [
    "**OJO: No ejecute la celda anterior ($\\uparrow$) una vez ejecutadas las celdas que siguen a continuación ($\\downarrow$)**\n",
    "\n",
    "Redefiniremos la implementación del generador de parsers hacia una que *decore* la salida del actual. Esta nueva implementación simplemente extraerá de los tokens de entrada los respectivos tipos (`token_type`), y procederá de la misma forma que ya estaba implementada. Claramente, los hacemos de esta forma para reutilizar la versión que ya teníamos implementada, pero podríamos reescribir la implementación original para que al acceder al símbolo puntado por el cabezal (`a = w[cursor]`) accediera a su tipo a través del campo `token_type`."
   ]
  },
  {
   "cell_type": "code",
   "execution_count": 192,
   "metadata": {},
   "outputs": [],
   "source": [
    "def metodo_predictivo_no_recursivo(G, M):\n",
    "    parser = deprecated_metodo_predictivo_no_recursivo(G, M)\n",
    "    def updated(tokens):\n",
    "        return parser([t.token_type for t in tokens])\n",
    "    return updated"
   ]
  },
  {
   "cell_type": "markdown",
   "metadata": {},
   "source": [
    "Rápidamente podemos comprobar la efectividad del cambio:"
   ]
  },
  {
   "cell_type": "code",
   "execution_count": 193,
   "metadata": {},
   "outputs": [
    {
     "data": {
      "text/plain": [
       "[E -> T X,\n",
       " T -> F Y,\n",
       " F -> num,\n",
       " Y -> e,\n",
       " X -> + T X,\n",
       " T -> F Y,\n",
       " F -> num,\n",
       " Y -> e,\n",
       " X -> e]"
      ]
     },
     "execution_count": 193,
     "metadata": {},
     "output_type": "execute_result"
    }
   ],
   "source": [
    "text = '5.9 + 4'\n",
    "tokens = [ Token('5.9', num), Token('+', plus), Token('4', num), Token('$', G.EOF) ]\n",
    "parser = metodo_predictivo_no_recursivo(G, M)\n",
    "left_parse = parser(tokens)\n",
    "left_parse"
   ]
  },
  {
   "cell_type": "markdown",
   "metadata": {},
   "source": [
    "Pasemos finalmente a implementar un algoritmo de evaluación de la secuencia de tokens a partir del parse izquierdo."
   ]
  },
  {
   "cell_type": "code",
   "execution_count": 194,
   "metadata": {},
   "outputs": [],
   "source": [
    "def evaluate_parse(left_parse, tokens):\n",
    "    if not left_parse or not tokens:\n",
    "        return\n",
    "    \n",
    "    left_parse = iter(left_parse)\n",
    "    tokens = iter(tokens)\n",
    "    result = evaluate(next(left_parse), left_parse, tokens)\n",
    "    \n",
    "    assert isinstance(next(tokens).token_type, EOF)\n",
    "    return result\n",
    "    \n",
    "\n",
    "def evaluate(production, left_parse, tokens, inherited_value=None):\n",
    "    head, body = production\n",
    "    attributes = production.attributes\n",
    "    \n",
    "    # Insert your code here ...\n",
    "    # > synteticed = ...\n",
    "    # > inherited = ...\n",
    "    # Anything to do with inherited_value?\n",
    "    synteticed = [None] * (len(body) + 1)\n",
    "    inherited = [None] * (len(body) + 1)\n",
    "\n",
    "    inherited[0] = inherited_value\n",
    "\n",
    "    for i, symbol in enumerate(body, 1):\n",
    "        if symbol.IsTerminal:\n",
    "            assert inherited[i] is None\n",
    "            # Insert your code here ...\n",
    "            token = next(tokens)\n",
    "            if token.token_type == num:\n",
    "                synteticed[i] = float(token.lex)\n",
    "            else:\n",
    "                synteticed[i] = token.lex\n",
    "        else:\n",
    "            next_production = next(left_parse)\n",
    "            assert symbol == next_production.Left\n",
    "            # Insert your code here ...\n",
    "            if not attributes[i] is None:\n",
    "                inherited[i] = attributes[i](inherited, synteticed)\n",
    "            synteticed[i] = evaluate(next_production, left_parse, tokens, inherited[i])\n",
    "    \n",
    "    return attributes[0](inherited, synteticed)\n"
   ]
  },
  {
   "cell_type": "markdown",
   "metadata": {},
   "source": [
    "Y enseguida podemos comprobar la correctitud del algoritmo:"
   ]
  },
  {
   "cell_type": "code",
   "execution_count": 195,
   "metadata": {},
   "outputs": [
    {
     "name": "stdout",
     "output_type": "stream",
     "text": [
      "5.9 + 4 = 9.9\n"
     ]
    }
   ],
   "source": [
    "result = evaluate_parse(left_parse, tokens)\n",
    "print(f'{text} = {result}')\n",
    "assert result == 9.9"
   ]
  },
  {
   "cell_type": "markdown",
   "metadata": {},
   "source": [
    "## Completando el pipeline\n",
    "\n",
    "Implementemos nuevamente un tokenizer muy básico. Asumiremos como de costumbre que las unidades léxicas relevantes están separadas por espacio (o sea, que los números y operadores están separados por al menos un espacio)."
   ]
  },
  {
   "cell_type": "code",
   "execution_count": 196,
   "metadata": {},
   "outputs": [],
   "source": [
    "fixed_tokens = {\n",
    "    '+'  :   Token( '+', plus  ),\n",
    "    '-'  :   Token( '-', minus ),\n",
    "    '*'  :   Token( '*', star  ),\n",
    "    '/'  :   Token( '/', div   ),\n",
    "    '('  :   Token( '(', opar  ),\n",
    "    ')'  :   Token( ')', cpar  ),\n",
    "}\n",
    "\n",
    "def tokenize_text(text):\n",
    "    tokens = []\n",
    "\n",
    "    for item in text.split():\n",
    "        try:\n",
    "            float(item)\n",
    "            token = Token(item, num)\n",
    "        except ValueError:\n",
    "            try:\n",
    "                token = fixed_tokens[item]\n",
    "            except:\n",
    "                raise Exception('Undefined token')\n",
    "        tokens.append(token)\n",
    "\n",
    "    eof = Token('$', G.EOF)\n",
    "    tokens.append(eof)\n",
    "\n",
    "    return tokens"
   ]
  },
  {
   "cell_type": "markdown",
   "metadata": {},
   "source": [
    "Probemos algunas cadenas. Se realizará la siguiente cadena de transformaciones:\n",
    "```\n",
    "Entrada -> Tokens -> Parse Izquierdo -> Resultado\n",
    "```    "
   ]
  },
  {
   "cell_type": "code",
   "execution_count": 197,
   "metadata": {},
   "outputs": [
    {
     "name": "stdout",
     "output_type": "stream",
     "text": [
      "================Tokens================\n",
      "[\n",
      "   num: 1\n",
      "   -: -\n",
      "   num: 1\n",
      "   -: -\n",
      "   num: 1\n",
      "   $: $\n",
      "]\n",
      "==============Left-Parse==============\n",
      "[\n",
      "   E -> T X\n",
      "   T -> F Y\n",
      "   F -> num\n",
      "   Y -> e\n",
      "   X -> - T X\n",
      "   T -> F Y\n",
      "   F -> num\n",
      "   Y -> e\n",
      "   X -> - T X\n",
      "   T -> F Y\n",
      "   F -> num\n",
      "   Y -> e\n",
      "   X -> e\n",
      "]\n",
      "================Result================\n",
      "1 - 1 - 1 = -1.0\n"
     ]
    }
   ],
   "source": [
    "text = '1 - 1 - 1'\n",
    "tokens = tokenize_text(text)\n",
    "pprint(tokens, '================Tokens================')\n",
    "left_parse = parser(tokens)\n",
    "pprint(left_parse, '==============Left-Parse==============')\n",
    "result = evaluate_parse(left_parse, tokens)\n",
    "pprint(f'{text} = {result}', '================Result================')\n",
    "assert result == -1"
   ]
  },
  {
   "cell_type": "code",
   "execution_count": 198,
   "metadata": {},
   "outputs": [
    {
     "name": "stdout",
     "output_type": "stream",
     "text": [
      "================Tokens================\n",
      "[\n",
      "   num: 1\n",
      "   -: -\n",
      "   (: (\n",
      "   num: 1\n",
      "   -: -\n",
      "   num: 1\n",
      "   ): )\n",
      "   $: $\n",
      "]\n",
      "==============Left-Parse==============\n",
      "[\n",
      "   E -> T X\n",
      "   T -> F Y\n",
      "   F -> num\n",
      "   Y -> e\n",
      "   X -> - T X\n",
      "   T -> F Y\n",
      "   F -> ( E )\n",
      "   E -> T X\n",
      "   T -> F Y\n",
      "   F -> num\n",
      "   Y -> e\n",
      "   X -> - T X\n",
      "   T -> F Y\n",
      "   F -> num\n",
      "   Y -> e\n",
      "   X -> e\n",
      "   Y -> e\n",
      "   X -> e\n",
      "]\n",
      "================Result================\n",
      "1 - ( 1 - 1 ) = 1.0\n"
     ]
    }
   ],
   "source": [
    "text = '1 - ( 1 - 1 )'\n",
    "tokens = tokenize_text(text)\n",
    "pprint(tokens, '================Tokens================')\n",
    "left_parse = parser(tokens)\n",
    "pprint(left_parse, '==============Left-Parse==============')\n",
    "result = evaluate_parse(left_parse, tokens)\n",
    "pprint(f'{text} = {result}', '================Result================')\n",
    "assert result == 1"
   ]
  },
  {
   "cell_type": "markdown",
   "metadata": {},
   "source": [
    "## Propuestas\n",
    "\n",
    "- Con el objetivo de simplificar la implementación de los algoritmos en la clase, la evaluación de los atributos se realizó posteriormente a que se obtuviera completamente el parse izquierdo. Sin embargo, vimos en conferencia que la evaluación de los atributos puede realizarse junto al proceso de parsing LL(1) si la gramática es _L-atributada_. Realice las modificaciones pertinentes para evaluar los atributos a medida que se parsea la cadena."
   ]
  }
 ],
 "metadata": {
  "kernelspec": {
   "display_name": "Python 3",
   "language": "python",
   "name": "python3"
  },
  "language_info": {
   "codemirror_mode": {
    "name": "ipython",
    "version": 3
   },
   "file_extension": ".py",
   "mimetype": "text/x-python",
   "name": "python",
   "nbconvert_exporter": "python",
   "pygments_lexer": "ipython3",
   "version": "3.10.6"
  }
 },
 "nbformat": 4,
 "nbformat_minor": 4
}
